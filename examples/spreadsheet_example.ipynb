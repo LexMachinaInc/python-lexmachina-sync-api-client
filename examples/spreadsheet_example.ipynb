{
 "cells": [
  {
   "cell_type": "code",
   "execution_count": 78,
   "id": "ae993c1c-a333-4de3-b2a9-842b31f3a386",
   "metadata": {},
   "outputs": [],
   "source": [
    "import os\n",
    "import lexmachina\n",
    "from collections import defaultdict\n",
    "# pip install openpyxl\n",
    "import openpyxl\n",
    "import statistics"
   ]
  },
  {
   "cell_type": "code",
   "execution_count": 2,
   "id": "28656d9f-a5d0-4d32-8aa0-a08ff294b668",
   "metadata": {},
   "outputs": [],
   "source": [
    "configuration = lexmachina.Configuration(\n",
    "    host=\"https://api.lexmachina.com\",\n",
    "    access_token=os.environ[\"BEARER_TOKEN\"]\n",
    ")"
   ]
  },
  {
   "cell_type": "code",
   "execution_count": 6,
   "id": "a2059042-88b3-494a-8f2a-a727b41f29b0",
   "metadata": {},
   "outputs": [],
   "source": [
    "query = {\n",
    "        \"caseTypes\": {\n",
    "            \"include\": [\n",
    "            \"Antitrust\"\n",
    "            ]\n",
    "        },\n",
    "        \"dates\": {\n",
    "            \"terminated\": {\n",
    "            \"onOrAfter\": \"2024-01-01\",\n",
    "            \"onOrBefore\": \"2024-12-31\"\n",
    "            }\n",
    "        },\n",
    "        \"page\": 1,\n",
    "        \"pageSize\": 100\n",
    "    }"
   ]
  },
  {
   "cell_type": "code",
   "execution_count": 7,
   "id": "18d2c87d-7224-47c1-a503-d4f81d09c8e9",
   "metadata": {},
   "outputs": [
    {
     "name": "stdout",
     "output_type": "stream",
     "text": [
      "current_page=1\n",
      "current_page=2\n",
      "current_page=3\n",
      "current_page=4\n",
      "current_page=5\n",
      "current_page=6\n",
      "current_page=7\n",
      "Antitrust cases terminated in 2024 has length 671\n",
      "50 out of 671 processed\n",
      "100 out of 671 processed\n",
      "150 out of 671 processed\n",
      "200 out of 671 processed\n",
      "250 out of 671 processed\n",
      "300 out of 671 processed\n",
      "350 out of 671 processed\n",
      "400 out of 671 processed\n",
      "450 out of 671 processed\n",
      "500 out of 671 processed\n",
      "550 out of 671 processed\n",
      "600 out of 671 processed\n",
      "650 out of 671 processed\n"
     ]
    }
   ],
   "source": [
    "with lexmachina.ApiClient(configuration) as api_client:\n",
    "    fed_dist_case_api_instance = lexmachina.FederalDistrictCasesApi(api_client)\n",
    "\n",
    "    case_ids = []\n",
    "    done_paging = False\n",
    "\n",
    "    while not done_paging:\n",
    "        query_response = fed_dist_case_api_instance.query_district_cases(query)\n",
    "    \n",
    "        if query_response.cases:\n",
    "            current_page = query['page']\n",
    "            print(f'{current_page=}')\n",
    "            result_case_ids = [caseref.district_case_id for caseref in query_response.cases]\n",
    "            case_ids += result_case_ids\n",
    "            query['page'] = current_page + 1\n",
    "    \n",
    "        else:\n",
    "            print(f'Antitrust cases terminated in 2024 has length {len(case_ids)}')\n",
    "            done_paging=True\n",
    "\n",
    "    case_data = []\n",
    "\n",
    "    for case_id in case_ids:\n",
    "        case_data.append(fed_dist_case_api_instance.get_district_case(case_id))\n",
    "        if len(case_data) % 50 == 0:\n",
    "             print(f'{len(case_data)} out of {len(case_ids)} processed')\n",
    "\n",
    "    "
   ]
  },
  {
   "cell_type": "code",
   "execution_count": 10,
   "id": "b069531f-0c0b-440a-bf9a-18d5bd02bf01",
   "metadata": {},
   "outputs": [
    {
     "data": {
      "text/plain": [
       "[FederalJudge(name='Mitchell S. Goldberg', federal_judge_id=3193)]"
      ]
     },
     "execution_count": 10,
     "metadata": {},
     "output_type": "execute_result"
    }
   ],
   "source": [
    "case_data[0].judges"
   ]
  },
  {
   "cell_type": "code",
   "execution_count": 62,
   "id": "88204f40-0c2e-4b59-b140-407b6b0bd85e",
   "metadata": {},
   "outputs": [],
   "source": [
    "cases_by_judge = defaultdict(list)"
   ]
  },
  {
   "cell_type": "code",
   "execution_count": 63,
   "id": "92093b5a-acd0-41c7-8b3c-841d94d873f5",
   "metadata": {},
   "outputs": [],
   "source": [
    "for c in case_data:\n",
    "    for j in c.judges:\n",
    "        cases_by_judge[(j.name, j.federal_judge_id)].append(dict(case_id=c.district_case_id, duration=c.dates.terminated - c.dates.filed))\n",
    "        "
   ]
  },
  {
   "cell_type": "code",
   "execution_count": 64,
   "id": "6e7f1382-5988-4cb7-ae8b-058f9109fa7c",
   "metadata": {},
   "outputs": [
    {
     "data": {
      "text/plain": [
       "378"
      ]
     },
     "execution_count": 64,
     "metadata": {},
     "output_type": "execute_result"
    }
   ],
   "source": [
    "len(cases_by_judge)"
   ]
  },
  {
   "cell_type": "code",
   "execution_count": 65,
   "id": "afdb2296-fe46-4f84-8635-449ff78c0a01",
   "metadata": {},
   "outputs": [
    {
     "data": {
      "text/plain": [
       "[('Mitchell S. Goldberg', 3193),\n",
       " ('Edmond E-Min Chang', 3342),\n",
       " ('Miriam Goldman Cedarbaum', 406),\n",
       " ('Lorna Gail Schofield', 3451),\n",
       " ('Joel A. Pisano', 2851)]"
      ]
     },
     "execution_count": 65,
     "metadata": {},
     "output_type": "execute_result"
    }
   ],
   "source": [
    "list(cases_by_judge)[:5]"
   ]
  },
  {
   "cell_type": "code",
   "execution_count": 66,
   "id": "ba5310fb-db7d-40e2-b682-54f9d8fe8eaf",
   "metadata": {},
   "outputs": [
    {
     "data": {
      "text/plain": [
       "[{'case_id': 2000009555, 'duration': datetime.timedelta(days=4981)}]"
      ]
     },
     "execution_count": 66,
     "metadata": {},
     "output_type": "execute_result"
    }
   ],
   "source": [
    "cases_by_judge[('Lorna Gail Schofield', 3451)]"
   ]
  },
  {
   "cell_type": "code",
   "execution_count": 67,
   "id": "34c9b660-853d-4b26-92ff-b03849bfa8bd",
   "metadata": {},
   "outputs": [],
   "source": [
    "case_count_by_judges = [(judge_info, len(cases_by_judge[judge_info])) for judge_info in cases_by_judge]"
   ]
  },
  {
   "cell_type": "code",
   "execution_count": 68,
   "id": "b8c7b5f7-9798-4036-957b-22f40eed1d83",
   "metadata": {},
   "outputs": [],
   "source": [
    "sorted_case_counts_by_judges = sorted(case_count_by_judges, key=lambda x: x[-1], reverse=True)"
   ]
  },
  {
   "cell_type": "code",
   "execution_count": 69,
   "id": "5a9b2351-d5a0-4cef-b744-7a986428d4e7",
   "metadata": {},
   "outputs": [
    {
     "data": {
      "text/plain": [
       "[(('Edgardo Ramos', 3405), 37),\n",
       " (('Waverly David Crenshaw Jr.', 3603), 34),\n",
       " (('Sarah Elizabeth Pitlyk', 7465646), 30),\n",
       " (('P. Kevin Castel', 3029), 23),\n",
       " (('Sara Elizabeth Lioi', 3140), 23)]"
      ]
     },
     "execution_count": 69,
     "metadata": {},
     "output_type": "execute_result"
    }
   ],
   "source": [
    "sorted_case_counts_by_judges[:5]"
   ]
  },
  {
   "cell_type": "code",
   "execution_count": 70,
   "id": "514d178c-3110-4564-a006-d6a6dbb4ebc7",
   "metadata": {},
   "outputs": [
    {
     "data": {
      "text/plain": [
       "[(('Steven Douglas Merryday', 1627), 1),\n",
       " (('Mary Stenson Scriven', 3189), 1),\n",
       " (('John George Koeltl', 1305), 1),\n",
       " (('John Charles Hinderaker', 8938396), 1),\n",
       " (('Yvonne Gonzalez Rogers', 3404), 1)]"
      ]
     },
     "execution_count": 70,
     "metadata": {},
     "output_type": "execute_result"
    }
   ],
   "source": [
    "sorted_case_counts_by_judges[-5:]"
   ]
  },
  {
   "cell_type": "code",
   "execution_count": 71,
   "id": "b5b75e1a-b339-4255-a0e0-cd299b8eb944",
   "metadata": {},
   "outputs": [
    {
     "data": {
      "text/plain": [
       "[[{'case_id': 97091, 'duration': datetime.timedelta(days=6752)},\n",
       "  {'case_id': 2000045171, 'duration': datetime.timedelta(days=4015)},\n",
       "  {'case_id': 2000045229, 'duration': datetime.timedelta(days=4011)},\n",
       "  {'case_id': 2000046633, 'duration': datetime.timedelta(days=3980)},\n",
       "  {'case_id': 2000047864, 'duration': datetime.timedelta(days=3952)},\n",
       "  {'case_id': 2000049181, 'duration': datetime.timedelta(days=3918)},\n",
       "  {'case_id': 2000049340, 'duration': datetime.timedelta(days=3912)},\n",
       "  {'case_id': 2000049341, 'duration': datetime.timedelta(days=3912)},\n",
       "  {'case_id': 2000049655, 'duration': datetime.timedelta(days=3905)},\n",
       "  {'case_id': 2000049658, 'duration': datetime.timedelta(days=3905)},\n",
       "  {'case_id': 2000049746, 'duration': datetime.timedelta(days=3903)},\n",
       "  {'case_id': 2000051026, 'duration': datetime.timedelta(days=3863)}],\n",
       " [{'case_id': 48907, 'duration': datetime.timedelta(days=6117)},\n",
       "  {'case_id': 2007889413, 'duration': datetime.timedelta(days=935)},\n",
       "  {'case_id': 2034461979, 'duration': datetime.timedelta(days=3)}],\n",
       " [{'case_id': 2000009555, 'duration': datetime.timedelta(days=4981)}],\n",
       " [{'case_id': 2000009555, 'duration': datetime.timedelta(days=4981)}],\n",
       " [{'case_id': 2000026715, 'duration': datetime.timedelta(days=4739)},\n",
       "  {'case_id': 2000028620, 'duration': datetime.timedelta(days=4676)},\n",
       "  {'case_id': 2000029363, 'duration': datetime.timedelta(days=4653)},\n",
       "  {'case_id': 2000034588, 'duration': datetime.timedelta(days=4500)},\n",
       "  {'case_id': 2000035078, 'duration': datetime.timedelta(days=4481)}]]"
      ]
     },
     "execution_count": 71,
     "metadata": {},
     "output_type": "execute_result"
    }
   ],
   "source": [
    "list( cases_by_judge.values())[:5]"
   ]
  },
  {
   "cell_type": "code",
   "execution_count": 84,
   "id": "014909c0-f89c-45a8-b098-a797f4cfc51c",
   "metadata": {},
   "outputs": [],
   "source": [
    "all_durations = []"
   ]
  },
  {
   "cell_type": "code",
   "execution_count": 85,
   "id": "7a21f080-4aba-445d-a25a-4dc09e483408",
   "metadata": {},
   "outputs": [],
   "source": [
    "for case_group in cases_by_judge.values():\n",
    "    all_durations += [c['duration'].days for c in case_group]"
   ]
  },
  {
   "cell_type": "code",
   "execution_count": 86,
   "id": "53db69a3-8671-4982-8837-ffe726baa09e",
   "metadata": {},
   "outputs": [
    {
     "data": {
      "text/plain": [
       "[6752, 4015, 4011, 3980, 3952]"
      ]
     },
     "execution_count": 86,
     "metadata": {},
     "output_type": "execute_result"
    }
   ],
   "source": [
    "all_durations[:5]"
   ]
  },
  {
   "cell_type": "code",
   "execution_count": 87,
   "id": "a54932ca-033e-4686-91fe-bcddd0e37582",
   "metadata": {},
   "outputs": [],
   "source": [
    "sorted_all_durations = sorted(all_durations)"
   ]
  },
  {
   "cell_type": "code",
   "execution_count": 88,
   "id": "3476b298-0fe6-4679-ba74-72a6e84c2a4c",
   "metadata": {},
   "outputs": [
    {
     "data": {
      "text/plain": [
       "[0, 1, 1]"
      ]
     },
     "execution_count": 88,
     "metadata": {},
     "output_type": "execute_result"
    }
   ],
   "source": [
    "sorted_all_durations[:3]"
   ]
  },
  {
   "cell_type": "code",
   "execution_count": 89,
   "id": "f1d85467-43de-4c1e-9ede-81f4ab8fbea5",
   "metadata": {},
   "outputs": [
    {
     "data": {
      "text/plain": [
       "[4981, 6117, 6752]"
      ]
     },
     "execution_count": 89,
     "metadata": {},
     "output_type": "execute_result"
    }
   ],
   "source": [
    "sorted_all_durations[-3:]"
   ]
  },
  {
   "cell_type": "code",
   "execution_count": 97,
   "id": "9ac3916f-77b4-47f1-925c-db595de7b037",
   "metadata": {},
   "outputs": [
    {
     "data": {
      "text/plain": [
       "1084"
      ]
     },
     "execution_count": 97,
     "metadata": {},
     "output_type": "execute_result"
    }
   ],
   "source": [
    "round(statistics.mean(sorted_all_durations))"
   ]
  },
  {
   "cell_type": "code",
   "execution_count": null,
   "id": "626bf1b1-92cb-45e8-8a0a-9d6db062df01",
   "metadata": {},
   "outputs": [],
   "source": []
  },
  {
   "cell_type": "code",
   "execution_count": 105,
   "id": "585fe050-7a73-47f3-bf89-b7986ad9f460",
   "metadata": {},
   "outputs": [
    {
     "data": {
      "text/plain": [
       "451"
      ]
     },
     "execution_count": 105,
     "metadata": {},
     "output_type": "execute_result"
    }
   ],
   "source": [
    "statistics.median(sorted_all_durations)"
   ]
  },
  {
   "cell_type": "code",
   "execution_count": null,
   "id": "885d14b0-93f4-4d52-ad65-3d227118e4ca",
   "metadata": {},
   "outputs": [],
   "source": []
  },
  {
   "cell_type": "code",
   "execution_count": 99,
   "id": "655a73b1-ee3c-481a-9757-c29a66774d09",
   "metadata": {},
   "outputs": [
    {
     "data": {
      "text/plain": [
       "[(('Edgardo Ramos', 3405), 37),\n",
       " (('Waverly David Crenshaw Jr.', 3603), 34),\n",
       " (('Sarah Elizabeth Pitlyk', 7465646), 30),\n",
       " (('P. Kevin Castel', 3029), 23),\n",
       " (('Sara Elizabeth Lioi', 3140), 23)]"
      ]
     },
     "execution_count": 99,
     "metadata": {},
     "output_type": "execute_result"
    }
   ],
   "source": [
    "sorted_case_counts_by_judges[:5]"
   ]
  },
  {
   "cell_type": "code",
   "execution_count": null,
   "id": "2edeb2cf-d11f-4c7f-b359-96dfc33e39f3",
   "metadata": {},
   "outputs": [],
   "source": []
  },
  {
   "cell_type": "code",
   "execution_count": 104,
   "id": "f6073a89-cc82-4400-bd2d-bde0894e5f60",
   "metadata": {},
   "outputs": [
    {
     "name": "stdout",
     "output_type": "stream",
     "text": [
      "--------------------\n",
      "judge name: Edgardo Ramos\n",
      "total num cases: 37\n",
      "average duration: 133\n",
      "median duration: 95\n",
      "--------------------\n",
      "judge name: Waverly David Crenshaw Jr.\n",
      "total num cases: 34\n",
      "average duration: 280\n",
      "median duration: 307.0\n",
      "--------------------\n",
      "judge name: Sarah Elizabeth Pitlyk\n",
      "total num cases: 30\n",
      "average duration: 1146\n",
      "median duration: 1178.0\n",
      "--------------------\n",
      "judge name: P. Kevin Castel\n",
      "total num cases: 23\n",
      "average duration: 823\n",
      "median duration: 912\n",
      "--------------------\n",
      "judge name: Sara Elizabeth Lioi\n",
      "total num cases: 23\n",
      "average duration: 65\n",
      "median duration: 71\n"
     ]
    }
   ],
   "source": [
    "for j in sorted_case_counts_by_judges[:5]:\n",
    "    judge_cases = cases_by_judge[j[0]]\n",
    "    judge_durations = [c['duration'].days for c in judge_cases]\n",
    "    print('--------------------')\n",
    "    print(f'judge name: {j[0][0]}')\n",
    "    print(f'total num cases: {j[1]}')\n",
    "    print(f'average duration: {round(statistics.mean(judge_durations))}')\n",
    "    print(f'median duration: {statistics.median(judge_durations)}')"
   ]
  },
  {
   "cell_type": "code",
   "execution_count": null,
   "id": "c9de2e16-b774-41d1-91e0-270b592c385f",
   "metadata": {},
   "outputs": [],
   "source": []
  },
  {
   "cell_type": "code",
   "execution_count": null,
   "id": "9212a3e4-b281-4089-b053-b3305c008d35",
   "metadata": {},
   "outputs": [],
   "source": []
  },
  {
   "cell_type": "code",
   "execution_count": null,
   "id": "4f28acd2-7ea9-419e-bcb4-5175f0570f0e",
   "metadata": {},
   "outputs": [],
   "source": []
  },
  {
   "cell_type": "code",
   "execution_count": null,
   "id": "a08c2a8d-6996-4a0a-b10c-afcef23d4799",
   "metadata": {},
   "outputs": [],
   "source": []
  },
  {
   "cell_type": "code",
   "execution_count": null,
   "id": "c7d75145-ac26-4119-ad41-e5315579093f",
   "metadata": {},
   "outputs": [],
   "source": []
  },
  {
   "cell_type": "code",
   "execution_count": null,
   "id": "618e7449-fe8c-4bf3-85bb-85d4646b1294",
   "metadata": {},
   "outputs": [],
   "source": []
  },
  {
   "cell_type": "code",
   "execution_count": null,
   "id": "ba4cb4af-3f34-4b16-bc8c-f2da794920b6",
   "metadata": {},
   "outputs": [],
   "source": []
  },
  {
   "cell_type": "code",
   "execution_count": null,
   "id": "79777192-6cf6-4139-9d66-17b6b7594c7d",
   "metadata": {},
   "outputs": [],
   "source": []
  },
  {
   "cell_type": "code",
   "execution_count": null,
   "id": "91e2580a-702c-4491-ae5d-49309fef2174",
   "metadata": {},
   "outputs": [],
   "source": []
  },
  {
   "cell_type": "code",
   "execution_count": null,
   "id": "a7cf2dfa-2344-4ac9-bf24-abcded22ea61",
   "metadata": {},
   "outputs": [],
   "source": []
  },
  {
   "cell_type": "code",
   "execution_count": null,
   "id": "3a20cd68-dae1-4408-aba9-6b7dcb27a47e",
   "metadata": {},
   "outputs": [],
   "source": []
  },
  {
   "cell_type": "code",
   "execution_count": null,
   "id": "e1ff2bb3-3595-489f-91c6-0d24d756f3e3",
   "metadata": {},
   "outputs": [],
   "source": []
  },
  {
   "cell_type": "code",
   "execution_count": null,
   "id": "4f510491-a5a9-4153-aa77-d458b52e9858",
   "metadata": {},
   "outputs": [],
   "source": []
  },
  {
   "cell_type": "code",
   "execution_count": null,
   "id": "04366b77-aa4c-4805-b4d1-1049def3457b",
   "metadata": {},
   "outputs": [],
   "source": []
  },
  {
   "cell_type": "code",
   "execution_count": null,
   "id": "280fe618-01ef-4763-b720-c5b2f40a12fa",
   "metadata": {},
   "outputs": [],
   "source": []
  },
  {
   "cell_type": "code",
   "execution_count": null,
   "id": "2189d583-8837-40dd-a250-8647bd9d2a11",
   "metadata": {},
   "outputs": [],
   "source": []
  },
  {
   "cell_type": "code",
   "execution_count": null,
   "id": "270b1183-8bce-440d-9b9a-f1a99e2f09bb",
   "metadata": {},
   "outputs": [],
   "source": []
  },
  {
   "cell_type": "code",
   "execution_count": null,
   "id": "319a6849-254f-4b6a-b220-8d2cb70b70e0",
   "metadata": {},
   "outputs": [],
   "source": []
  },
  {
   "cell_type": "code",
   "execution_count": null,
   "id": "9cbd1d69-08c3-420d-b0fb-dae0da8096ca",
   "metadata": {},
   "outputs": [],
   "source": []
  },
  {
   "cell_type": "code",
   "execution_count": null,
   "id": "43b7a5ee-047a-486d-ba08-f3e9b309de59",
   "metadata": {},
   "outputs": [],
   "source": []
  }
 ],
 "metadata": {
  "kernelspec": {
   "display_name": "Python 3 (ipykernel)",
   "language": "python",
   "name": "python3"
  },
  "language_info": {
   "codemirror_mode": {
    "name": "ipython",
    "version": 3
   },
   "file_extension": ".py",
   "mimetype": "text/x-python",
   "name": "python",
   "nbconvert_exporter": "python",
   "pygments_lexer": "ipython3",
   "version": "3.11.6"
  }
 },
 "nbformat": 4,
 "nbformat_minor": 5
}
