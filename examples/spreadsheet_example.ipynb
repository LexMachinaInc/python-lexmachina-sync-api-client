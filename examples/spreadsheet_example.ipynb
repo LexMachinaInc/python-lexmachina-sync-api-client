{
 "cells": [
  {
   "cell_type": "code",
   "execution_count": 1,
   "id": "ae993c1c-a333-4de3-b2a9-842b31f3a386",
   "metadata": {},
   "outputs": [],
   "source": [
    "import os\n",
    "import lexmachina"
   ]
  },
  {
   "cell_type": "code",
   "execution_count": 2,
   "id": "28656d9f-a5d0-4d32-8aa0-a08ff294b668",
   "metadata": {},
   "outputs": [],
   "source": [
    "configuration = lexmachina.Configuration(\n",
    "    host=\"https://api.lexmachina.com\",\n",
    "    access_token=os.environ[\"BEARER_TOKEN\"]\n",
    ")"
   ]
  },
  {
   "cell_type": "code",
   "execution_count": 3,
   "id": "a2059042-88b3-494a-8f2a-a727b41f29b0",
   "metadata": {},
   "outputs": [],
   "source": [
    "query = {\n",
    "        \"caseTypes\": {\n",
    "            \"include\": [\n",
    "            \"Antitrust\"\n",
    "            ]\n",
    "        },\n",
    "        \"dates\": {\n",
    "            \"terminated\": {\n",
    "            \"onOrAfter\": \"2024-01-01\",\n",
    "            \"onOrBefore\": \"2024-12-31\"\n",
    "            }\n",
    "        },\n",
    "        \"page\": 1,\n",
    "        \"pageSize\": 100\n",
    "    }"
   ]
  },
  {
   "cell_type": "code",
   "execution_count": 4,
   "id": "18d2c87d-7224-47c1-a503-d4f81d09c8e9",
   "metadata": {},
   "outputs": [
    {
     "name": "stdout",
     "output_type": "stream",
     "text": [
      "current_page=1\n",
      "current_page=2\n",
      "current_page=3\n",
      "current_page=4\n",
      "current_page=5\n",
      "current_page=6\n",
      "current_page=7\n",
      "Antitrust cases terminated in 2024 has length 671\n"
     ]
    }
   ],
   "source": [
    "with lexmachina.ApiClient(configuration) as api_client:\n",
    "    fed_dist_case_api_instance = lexmachina.FederalDistrictCasesApi(api_client)\n",
    "\n",
    "    case_ids = []\n",
    "    done_paging = False\n",
    "\n",
    "    while not done_paging:\n",
    "        query_response = fed_dist_case_api_instance.query_district_cases(query)\n",
    "    \n",
    "        if query_response.cases:\n",
    "            current_page = query['page']\n",
    "            print(f'{current_page=}')\n",
    "            result_case_ids = [caseref.district_case_id for caseref in query_response.cases]\n",
    "            case_ids += result_case_ids\n",
    "            query['page'] = current_page + 1\n",
    "    \n",
    "        else:\n",
    "            print(f'Antitrust cases terminated in 2024 has length {len(case_ids)}')\n",
    "            done_paging=True    "
   ]
  },
  {
   "cell_type": "code",
   "execution_count": null,
   "id": "b069531f-0c0b-440a-bf9a-18d5bd02bf01",
   "metadata": {},
   "outputs": [],
   "source": []
  }
 ],
 "metadata": {
  "kernelspec": {
   "display_name": "Python 3 (ipykernel)",
   "language": "python",
   "name": "python3"
  },
  "language_info": {
   "codemirror_mode": {
    "name": "ipython",
    "version": 3
   },
   "file_extension": ".py",
   "mimetype": "text/x-python",
   "name": "python",
   "nbconvert_exporter": "python",
   "pygments_lexer": "ipython3",
   "version": "3.11.6"
  }
 },
 "nbformat": 4,
 "nbformat_minor": 5
}
