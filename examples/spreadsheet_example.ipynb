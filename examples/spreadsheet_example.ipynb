{
 "cells": [
  {
   "cell_type": "code",
   "execution_count": 78,
   "id": "ae993c1c-a333-4de3-b2a9-842b31f3a386",
   "metadata": {},
   "outputs": [],
   "source": [
    "import os\n",
    "import lexmachina\n",
    "from collections import defaultdict\n",
    "# pip install openpyxl\n",
    "import openpyxl\n",
    "import statistics"
   ]
  },
  {
   "cell_type": "code",
   "execution_count": 2,
   "id": "28656d9f-a5d0-4d32-8aa0-a08ff294b668",
   "metadata": {},
   "outputs": [],
   "source": [
    "configuration = lexmachina.Configuration(\n",
    "    host=\"https://api.lexmachina.com\",\n",
    "    access_token=os.environ[\"BEARER_TOKEN\"]\n",
    ")"
   ]
  },
  {
   "cell_type": "code",
   "execution_count": 6,
   "id": "a2059042-88b3-494a-8f2a-a727b41f29b0",
   "metadata": {},
   "outputs": [],
   "source": [
    "query = {\n",
    "        \"caseTypes\": {\n",
    "            \"include\": [\n",
    "            \"Antitrust\"\n",
    "            ]\n",
    "        },\n",
    "        \"dates\": {\n",
    "            \"terminated\": {\n",
    "            \"onOrAfter\": \"2024-01-01\",\n",
    "            \"onOrBefore\": \"2024-12-31\"\n",
    "            }\n",
    "        },\n",
    "        \"page\": 1,\n",
    "        \"pageSize\": 100\n",
    "    }"
   ]
  },
  {
   "cell_type": "code",
   "execution_count": 7,
   "id": "18d2c87d-7224-47c1-a503-d4f81d09c8e9",
   "metadata": {},
   "outputs": [
    {
     "name": "stdout",
     "output_type": "stream",
     "text": [
      "current_page=1\n",
      "current_page=2\n",
      "current_page=3\n",
      "current_page=4\n",
      "current_page=5\n",
      "current_page=6\n",
      "current_page=7\n",
      "Antitrust cases terminated in 2024 has length 671\n",
      "50 out of 671 processed\n",
      "100 out of 671 processed\n",
      "150 out of 671 processed\n",
      "200 out of 671 processed\n",
      "250 out of 671 processed\n",
      "300 out of 671 processed\n",
      "350 out of 671 processed\n",
      "400 out of 671 processed\n",
      "450 out of 671 processed\n",
      "500 out of 671 processed\n",
      "550 out of 671 processed\n",
      "600 out of 671 processed\n",
      "650 out of 671 processed\n"
     ]
    }
   ],
   "source": [
    "with lexmachina.ApiClient(configuration) as api_client:\n",
    "    fed_dist_case_api_instance = lexmachina.FederalDistrictCasesApi(api_client)\n",
    "\n",
    "    case_ids = []\n",
    "    done_paging = False\n",
    "\n",
    "    while not done_paging:\n",
    "        query_response = fed_dist_case_api_instance.query_district_cases(query)\n",
    "    \n",
    "        if query_response.cases:\n",
    "            current_page = query['page']\n",
    "            print(f'{current_page=}')\n",
    "            result_case_ids = [caseref.district_case_id for caseref in query_response.cases]\n",
    "            case_ids += result_case_ids\n",
    "            query['page'] = current_page + 1\n",
    "    \n",
    "        else:\n",
    "            print(f'Antitrust cases terminated in 2024 has length {len(case_ids)}')\n",
    "            done_paging=True\n",
    "\n",
    "    case_data = []\n",
    "\n",
    "    for case_id in case_ids:\n",
    "        case_data.append(fed_dist_case_api_instance.get_district_case(case_id))\n",
    "        if len(case_data) % 50 == 0:\n",
    "             print(f'{len(case_data)} out of {len(case_ids)} processed')\n",
    "\n",
    "    "
   ]
  },
  {
   "cell_type": "code",
   "execution_count": 10,
   "id": "b069531f-0c0b-440a-bf9a-18d5bd02bf01",
   "metadata": {},
   "outputs": [
    {
     "data": {
      "text/plain": [
       "[FederalJudge(name='Mitchell S. Goldberg', federal_judge_id=3193)]"
      ]
     },
     "execution_count": 10,
     "metadata": {},
     "output_type": "execute_result"
    }
   ],
   "source": [
    "case_data[0].judges"
   ]
  },
  {
   "cell_type": "code",
   "execution_count": 62,
   "id": "88204f40-0c2e-4b59-b140-407b6b0bd85e",
   "metadata": {},
   "outputs": [],
   "source": [
    "cases_by_judge = defaultdict(list)"
   ]
  },
  {
   "cell_type": "code",
   "execution_count": 63,
   "id": "92093b5a-acd0-41c7-8b3c-841d94d873f5",
   "metadata": {},
   "outputs": [],
   "source": [
    "for c in case_data:\n",
    "    for j in c.judges:\n",
    "        cases_by_judge[(j.name, j.federal_judge_id)].append(dict(case_id=c.district_case_id, duration=c.dates.terminated - c.dates.filed))\n",
    "        "
   ]
  },
  {
   "cell_type": "code",
   "execution_count": 64,
   "id": "6e7f1382-5988-4cb7-ae8b-058f9109fa7c",
   "metadata": {},
   "outputs": [
    {
     "data": {
      "text/plain": [
       "378"
      ]
     },
     "execution_count": 64,
     "metadata": {},
     "output_type": "execute_result"
    }
   ],
   "source": [
    "len(cases_by_judge)"
   ]
  },
  {
   "cell_type": "code",
   "execution_count": 65,
   "id": "afdb2296-fe46-4f84-8635-449ff78c0a01",
   "metadata": {},
   "outputs": [
    {
     "data": {
      "text/plain": [
       "[('Mitchell S. Goldberg', 3193),\n",
       " ('Edmond E-Min Chang', 3342),\n",
       " ('Miriam Goldman Cedarbaum', 406),\n",
       " ('Lorna Gail Schofield', 3451),\n",
       " ('Joel A. Pisano', 2851)]"
      ]
     },
     "execution_count": 65,
     "metadata": {},
     "output_type": "execute_result"
    }
   ],
   "source": [
    "list(cases_by_judge)[:5]"
   ]
  },
  {
   "cell_type": "code",
   "execution_count": 66,
   "id": "ba5310fb-db7d-40e2-b682-54f9d8fe8eaf",
   "metadata": {},
   "outputs": [
    {
     "data": {
      "text/plain": [
       "[{'case_id': 2000009555, 'duration': datetime.timedelta(days=4981)}]"
      ]
     },
     "execution_count": 66,
     "metadata": {},
     "output_type": "execute_result"
    }
   ],
   "source": [
    "cases_by_judge[('Lorna Gail Schofield', 3451)]"
   ]
  },
  {
   "cell_type": "code",
   "execution_count": 67,
   "id": "34c9b660-853d-4b26-92ff-b03849bfa8bd",
   "metadata": {},
   "outputs": [],
   "source": [
    "case_count_by_judges = [(judge_info, len(cases_by_judge[judge_info])) for judge_info in cases_by_judge]"
   ]
  },
  {
   "cell_type": "code",
   "execution_count": 68,
   "id": "b8c7b5f7-9798-4036-957b-22f40eed1d83",
   "metadata": {},
   "outputs": [],
   "source": [
    "sorted_case_counts_by_judges = sorted(case_count_by_judges, key=lambda x: x[-1], reverse=True)"
   ]
  },
  {
   "cell_type": "code",
   "execution_count": 69,
   "id": "5a9b2351-d5a0-4cef-b744-7a986428d4e7",
   "metadata": {},
   "outputs": [
    {
     "data": {
      "text/plain": [
       "[(('Edgardo Ramos', 3405), 37),\n",
       " (('Waverly David Crenshaw Jr.', 3603), 34),\n",
       " (('Sarah Elizabeth Pitlyk', 7465646), 30),\n",
       " (('P. Kevin Castel', 3029), 23),\n",
       " (('Sara Elizabeth Lioi', 3140), 23)]"
      ]
     },
     "execution_count": 69,
     "metadata": {},
     "output_type": "execute_result"
    }
   ],
   "source": [
    "sorted_case_counts_by_judges[:5]"
   ]
  },
  {
   "cell_type": "code",
   "execution_count": 70,
   "id": "514d178c-3110-4564-a006-d6a6dbb4ebc7",
   "metadata": {},
   "outputs": [
    {
     "data": {
      "text/plain": [
       "[(('Steven Douglas Merryday', 1627), 1),\n",
       " (('Mary Stenson Scriven', 3189), 1),\n",
       " (('John George Koeltl', 1305), 1),\n",
       " (('John Charles Hinderaker', 8938396), 1),\n",
       " (('Yvonne Gonzalez Rogers', 3404), 1)]"
      ]
     },
     "execution_count": 70,
     "metadata": {},
     "output_type": "execute_result"
    }
   ],
   "source": [
    "sorted_case_counts_by_judges[-5:]"
   ]
  },
  {
   "cell_type": "code",
   "execution_count": 71,
   "id": "b5b75e1a-b339-4255-a0e0-cd299b8eb944",
   "metadata": {},
   "outputs": [
    {
     "data": {
      "text/plain": [
       "[[{'case_id': 97091, 'duration': datetime.timedelta(days=6752)},\n",
       "  {'case_id': 2000045171, 'duration': datetime.timedelta(days=4015)},\n",
       "  {'case_id': 2000045229, 'duration': datetime.timedelta(days=4011)},\n",
       "  {'case_id': 2000046633, 'duration': datetime.timedelta(days=3980)},\n",
       "  {'case_id': 2000047864, 'duration': datetime.timedelta(days=3952)},\n",
       "  {'case_id': 2000049181, 'duration': datetime.timedelta(days=3918)},\n",
       "  {'case_id': 2000049340, 'duration': datetime.timedelta(days=3912)},\n",
       "  {'case_id': 2000049341, 'duration': datetime.timedelta(days=3912)},\n",
       "  {'case_id': 2000049655, 'duration': datetime.timedelta(days=3905)},\n",
       "  {'case_id': 2000049658, 'duration': datetime.timedelta(days=3905)},\n",
       "  {'case_id': 2000049746, 'duration': datetime.timedelta(days=3903)},\n",
       "  {'case_id': 2000051026, 'duration': datetime.timedelta(days=3863)}],\n",
       " [{'case_id': 48907, 'duration': datetime.timedelta(days=6117)},\n",
       "  {'case_id': 2007889413, 'duration': datetime.timedelta(days=935)},\n",
       "  {'case_id': 2034461979, 'duration': datetime.timedelta(days=3)}],\n",
       " [{'case_id': 2000009555, 'duration': datetime.timedelta(days=4981)}],\n",
       " [{'case_id': 2000009555, 'duration': datetime.timedelta(days=4981)}],\n",
       " [{'case_id': 2000026715, 'duration': datetime.timedelta(days=4739)},\n",
       "  {'case_id': 2000028620, 'duration': datetime.timedelta(days=4676)},\n",
       "  {'case_id': 2000029363, 'duration': datetime.timedelta(days=4653)},\n",
       "  {'case_id': 2000034588, 'duration': datetime.timedelta(days=4500)},\n",
       "  {'case_id': 2000035078, 'duration': datetime.timedelta(days=4481)}]]"
      ]
     },
     "execution_count": 71,
     "metadata": {},
     "output_type": "execute_result"
    }
   ],
   "source": [
    "list( cases_by_judge.values())[:5]"
   ]
  },
  {
   "cell_type": "code",
   "execution_count": 84,
   "id": "014909c0-f89c-45a8-b098-a797f4cfc51c",
   "metadata": {},
   "outputs": [],
   "source": [
    "all_durations = []"
   ]
  },
  {
   "cell_type": "code",
   "execution_count": 85,
   "id": "7a21f080-4aba-445d-a25a-4dc09e483408",
   "metadata": {},
   "outputs": [],
   "source": [
    "for case_group in cases_by_judge.values():\n",
    "    all_durations += [c['duration'].days for c in case_group]"
   ]
  },
  {
   "cell_type": "code",
   "execution_count": 86,
   "id": "53db69a3-8671-4982-8837-ffe726baa09e",
   "metadata": {},
   "outputs": [
    {
     "data": {
      "text/plain": [
       "[6752, 4015, 4011, 3980, 3952]"
      ]
     },
     "execution_count": 86,
     "metadata": {},
     "output_type": "execute_result"
    }
   ],
   "source": [
    "all_durations[:5]"
   ]
  },
  {
   "cell_type": "code",
   "execution_count": 87,
   "id": "a54932ca-033e-4686-91fe-bcddd0e37582",
   "metadata": {},
   "outputs": [],
   "source": [
    "sorted_all_durations = sorted(all_durations)"
   ]
  },
  {
   "cell_type": "code",
   "execution_count": 88,
   "id": "3476b298-0fe6-4679-ba74-72a6e84c2a4c",
   "metadata": {},
   "outputs": [
    {
     "data": {
      "text/plain": [
       "[0, 1, 1]"
      ]
     },
     "execution_count": 88,
     "metadata": {},
     "output_type": "execute_result"
    }
   ],
   "source": [
    "sorted_all_durations[:3]"
   ]
  },
  {
   "cell_type": "code",
   "execution_count": 89,
   "id": "f1d85467-43de-4c1e-9ede-81f4ab8fbea5",
   "metadata": {},
   "outputs": [
    {
     "data": {
      "text/plain": [
       "[4981, 6117, 6752]"
      ]
     },
     "execution_count": 89,
     "metadata": {},
     "output_type": "execute_result"
    }
   ],
   "source": [
    "sorted_all_durations[-3:]"
   ]
  },
  {
   "cell_type": "code",
   "execution_count": 97,
   "id": "9ac3916f-77b4-47f1-925c-db595de7b037",
   "metadata": {},
   "outputs": [
    {
     "data": {
      "text/plain": [
       "1084"
      ]
     },
     "execution_count": 97,
     "metadata": {},
     "output_type": "execute_result"
    }
   ],
   "source": [
    "round(statistics.mean(sorted_all_durations))"
   ]
  },
  {
   "cell_type": "code",
   "execution_count": 105,
   "id": "585fe050-7a73-47f3-bf89-b7986ad9f460",
   "metadata": {},
   "outputs": [
    {
     "data": {
      "text/plain": [
       "451"
      ]
     },
     "execution_count": 105,
     "metadata": {},
     "output_type": "execute_result"
    }
   ],
   "source": [
    "statistics.median(sorted_all_durations)"
   ]
  },
  {
   "cell_type": "code",
   "execution_count": 99,
   "id": "655a73b1-ee3c-481a-9757-c29a66774d09",
   "metadata": {},
   "outputs": [
    {
     "data": {
      "text/plain": [
       "[(('Edgardo Ramos', 3405), 37),\n",
       " (('Waverly David Crenshaw Jr.', 3603), 34),\n",
       " (('Sarah Elizabeth Pitlyk', 7465646), 30),\n",
       " (('P. Kevin Castel', 3029), 23),\n",
       " (('Sara Elizabeth Lioi', 3140), 23)]"
      ]
     },
     "execution_count": 99,
     "metadata": {},
     "output_type": "execute_result"
    }
   ],
   "source": [
    "sorted_case_counts_by_judges[:5]"
   ]
  },
  {
   "cell_type": "code",
   "execution_count": 104,
   "id": "f6073a89-cc82-4400-bd2d-bde0894e5f60",
   "metadata": {},
   "outputs": [
    {
     "name": "stdout",
     "output_type": "stream",
     "text": [
      "--------------------\n",
      "judge name: Edgardo Ramos\n",
      "total num cases: 37\n",
      "average duration: 133\n",
      "median duration: 95\n",
      "--------------------\n",
      "judge name: Waverly David Crenshaw Jr.\n",
      "total num cases: 34\n",
      "average duration: 280\n",
      "median duration: 307.0\n",
      "--------------------\n",
      "judge name: Sarah Elizabeth Pitlyk\n",
      "total num cases: 30\n",
      "average duration: 1146\n",
      "median duration: 1178.0\n",
      "--------------------\n",
      "judge name: P. Kevin Castel\n",
      "total num cases: 23\n",
      "average duration: 823\n",
      "median duration: 912\n",
      "--------------------\n",
      "judge name: Sara Elizabeth Lioi\n",
      "total num cases: 23\n",
      "average duration: 65\n",
      "median duration: 71\n"
     ]
    }
   ],
   "source": [
    "for j in sorted_case_counts_by_judges[:5]:\n",
    "    judge_cases = cases_by_judge[j[0]]\n",
    "    judge_durations = [c['duration'].days for c in judge_cases]\n",
    "    print('--------------------')\n",
    "    print(f'judge name: {j[0][0]}')\n",
    "    print(f'total num cases: {j[1]}')\n",
    "    print(f'average duration: {round(statistics.mean(judge_durations))}')\n",
    "    print(f'median duration: {statistics.median(judge_durations)}')"
   ]
  },
  {
   "cell_type": "code",
   "execution_count": 108,
   "id": "c9de2e16-b774-41d1-91e0-270b592c385f",
   "metadata": {},
   "outputs": [
    {
     "data": {
      "text/plain": [
       "[LawFirm(name='Kessler Topaz Meltzer & Check', law_firm_id=27, client_party_ids=[257121, 52552843, 231694, 37904, 23356662, 20047290, 24917852, 37648157]),\n",
       " LawFirm(name='Hagens Berman Sobol Shapiro', law_firm_id=30, client_party_ids=[231694]),\n",
       " LawFirm(name='Berger Montague', law_firm_id=51, client_party_ids=[231694]),\n",
       " LawFirm(name='Faruqi & Faruqi', law_firm_id=54, client_party_ids=[231694]),\n",
       " LawFirm(name='Reed Smith', law_firm_id=433, client_party_ids=[27, 20020989]),\n",
       " LawFirm(name='Department of Justice', law_firm_id=604, client_party_ids=[20020989]),\n",
       " LawFirm(name='WilmerHale', law_firm_id=853, client_party_ids=[20036179]),\n",
       " LawFirm(name='Stevens & Lee', law_firm_id=1280, client_party_ids=[2993, 1087]),\n",
       " LawFirm(name='Venable', law_firm_id=1909, client_party_ids=[20030256, 2993, 20036179, 20027124, 1855, 27, 20020989, 1087]),\n",
       " LawFirm(name='State of Pennsylvania', law_firm_id=2338, client_party_ids=[27, 20020989]),\n",
       " LawFirm(name='Rawlings & Associates', law_firm_id=3008, client_party_ids=[231694]),\n",
       " LawFirm(name='Mintz, Levin, Cohn, Ferris, Glovsky and Popeo', law_firm_id=4142, client_party_ids=[2993, 1087]),\n",
       " LawFirm(name='Cravath, Swaine & Moore', law_firm_id=8914, client_party_ids=[27, 20020989, 1855]),\n",
       " LawFirm(name='Volpe & Koenig', law_firm_id=18520, client_party_ids=[20030256, 20027124]),\n",
       " LawFirm(name='Kirkland & Ellis', law_firm_id=20983, client_party_ids=[20030256, 2993, 20036179, 20027124, 1855, 27, 20020989, 1087]),\n",
       " LawFirm(name='Eckert Seamans Cherin & Mellott', law_firm_id=27984, client_party_ids=[20036179]),\n",
       " LawFirm(name='Willkie Farr & Gallagher', law_firm_id=31981, client_party_ids=[20030256, 2993, 1087, 20027124, 20020989, 1855]),\n",
       " LawFirm(name='Robinson & Cole', law_firm_id=33881, client_party_ids=[27, 20020989]),\n",
       " LawFirm(name='Finkelstein Thompson', law_firm_id=35890, client_party_ids=[37904, 23356662, 20047290, 24917852, 37648157]),\n",
       " LawFirm(name='Lewis Brisbois Bisgaard & Smith', law_firm_id=54662, client_party_ids=[27, 20020989]),\n",
       " LawFirm(name=\"Conrad, O'Brien, Gellman & Rohn\", law_firm_id=99445, client_party_ids=[20036179]),\n",
       " LawFirm(name='Klafter Olsen & Lesser', law_firm_id=230148, client_party_ids=[20047290]),\n",
       " LawFirm(name='Criden & Love', law_firm_id=303343, client_party_ids=[52552843]),\n",
       " LawFirm(name='Hangley Aronchick Segal Pudlin & Schiller', law_firm_id=449598, client_party_ids=[9750]),\n",
       " LawFirm(name='Armstrong Teasdale', law_firm_id=479700, client_party_ids=[1855]),\n",
       " LawFirm(name='City of Philadelphia, Pennsylvania', law_firm_id=797446, client_party_ids=[27, 20020989]),\n",
       " LawFirm(name='Hanzman Criden Love', law_firm_id=1241171, client_party_ids=[37904, 23356662, 20047290, 24917852, 37648157]),\n",
       " LawFirm(name='Finkelstein & Krinsk', law_firm_id=1356290, client_party_ids=[34912145]),\n",
       " LawFirm(name='Akin Gump Strauss Hauer & Feld', law_firm_id=1948224, client_party_ids=[27, 20020989, 1855]),\n",
       " LawFirm(name='Hilliard & Shadowen', law_firm_id=2605659, client_party_ids=[9750]),\n",
       " LawFirm(name='Roddy Klein & Ryan', law_firm_id=12953381, client_party_ids=[20036179]),\n",
       " LawFirm(name='Kirschner & Gartrell', law_firm_id=14093126, client_party_ids=[20047290]),\n",
       " LawFirm(name='Spector Roseman & Kodroff', law_firm_id=42582324, client_party_ids=[257121, 52552843, 37904, 23356662, 20047290, 24917852, 37648157]),\n",
       " LawFirm(name='MONTGOMERY McCRACKEN WALKER & RHOADS', law_firm_id=45200100, client_party_ids=[1855]),\n",
       " LawFirm(name='Harkins Cunningham', law_firm_id=62651519, client_party_ids=[20030256, 20027124]),\n",
       " LawFirm(name='White and Williams', law_firm_id=76758445, client_party_ids=[20030256, 2993, 20036179, 20027124, 1855, 20020989, 1087]),\n",
       " LawFirm(name='Law Offices of Robert W. Sink', law_firm_id=93515719, client_party_ids=[37904, 23356662, 20047290, 24917852, 37648157]),\n",
       " LawFirm(name='Fox Rothschild', law_firm_id=226013496, client_party_ids=[20036179])]"
      ]
     },
     "execution_count": 108,
     "metadata": {},
     "output_type": "execute_result"
    }
   ],
   "source": [
    "case_data[0].law_firms"
   ]
  },
  {
   "cell_type": "code",
   "execution_count": 109,
   "id": "825628d6-1cdf-4ff4-b86b-f73bbd41b5a6",
   "metadata": {},
   "outputs": [
    {
     "data": {
      "text/plain": [
       "[Party(name='Debra Langan', party_id=24917852, role='Plaintiff'),\n",
       " Party(name='Pennsylvania Turnpike Commission', party_id=23356662, role='Plaintiff'),\n",
       " Party(name='SHIRLEY PANEBIANO', party_id=257121, role='Plaintiff'),\n",
       " Party(name='AvMed, Inc.', party_id=231694, role='Plaintiff'),\n",
       " Party(name='Jeffrey R. Krinsk', party_id=34912145, role='Plaintiff'),\n",
       " Party(name='District Council 37 Health and Security Plan', party_id=37648157, role='Plaintiff'),\n",
       " Party(name='Eckerd Corporation', party_id=9750, role='Defendant'),\n",
       " Party(name='Teva Pharmaceutical Industries Ltd.', party_id=2993, role='Defendant'),\n",
       " Party(name='Teva Pharmaceuticals USA, Inc.', party_id=1087, role='Defendant'),\n",
       " Party(name='Mylan Pharmaceuticals, Inc.', party_id=27, role='Defendant'),\n",
       " Party(name='Barr Laboratories, Inc.', party_id=1855, role='Defendant'),\n",
       " Party(name='End Payor Class Plaintiffs', party_id=52552843, role='Plaintiff'),\n",
       " Party(name='Ranbaxy Laboratories Limited', party_id=20027124, role='Defendant'),\n",
       " Party(name='Vista Health Plan, Inc.', party_id=20047290, role='Plaintiff'),\n",
       " Party(name='Ranbaxy Pharmaceuticals Inc.', party_id=20030256, role='Defendant'),\n",
       " Party(name='Cephalon, Inc.', party_id=20036179, role='Defendant'),\n",
       " Party(name='Mylan Laboratories, Inc.', party_id=20020989, role='Defendant'),\n",
       " Party(name='Pennsylvania Employees Benefit Trust Fund', party_id=37904, role='Plaintiff')]"
      ]
     },
     "execution_count": 109,
     "metadata": {},
     "output_type": "execute_result"
    }
   ],
   "source": [
    "case_data[0].parties"
   ]
  },
  {
   "cell_type": "code",
   "execution_count": 110,
   "id": "8ac40da8-cd31-49a3-bdf0-16cbf08a77bb",
   "metadata": {},
   "outputs": [],
   "source": [
    "parties_by_id_by_case_id = {}"
   ]
  },
  {
   "cell_type": "code",
   "execution_count": 113,
   "id": "c4a47c85-6044-45c8-9e79-e3d21f62402d",
   "metadata": {},
   "outputs": [],
   "source": [
    "for c in case_data:\n",
    "    parties_by_id_by_case_id[c.district_case_id] = {}\n",
    "    for p in c.parties:\n",
    "        parties_by_id_by_case_id[c.district_case_id][p.party_id] = p"
   ]
  },
  {
   "cell_type": "code",
   "execution_count": 114,
   "id": "feed8a02-9637-4acd-ba53-99043debbd1f",
   "metadata": {},
   "outputs": [
    {
     "data": {
      "text/plain": [
       "[97091, 48907, 2000009555, 2000026715, 2000028620]"
      ]
     },
     "execution_count": 114,
     "metadata": {},
     "output_type": "execute_result"
    }
   ],
   "source": [
    "list(parties_by_id_by_case_id.keys())[:5]"
   ]
  },
  {
   "cell_type": "code",
   "execution_count": 115,
   "id": "baa34eab-f767-4cb9-818a-a543e031e57b",
   "metadata": {},
   "outputs": [
    {
     "data": {
      "text/plain": [
       "{24917852: Party(name='Debra Langan', party_id=24917852, role='Plaintiff'),\n",
       " 23356662: Party(name='Pennsylvania Turnpike Commission', party_id=23356662, role='Plaintiff'),\n",
       " 257121: Party(name='SHIRLEY PANEBIANO', party_id=257121, role='Plaintiff'),\n",
       " 231694: Party(name='AvMed, Inc.', party_id=231694, role='Plaintiff'),\n",
       " 34912145: Party(name='Jeffrey R. Krinsk', party_id=34912145, role='Plaintiff'),\n",
       " 37648157: Party(name='District Council 37 Health and Security Plan', party_id=37648157, role='Plaintiff'),\n",
       " 9750: Party(name='Eckerd Corporation', party_id=9750, role='Defendant'),\n",
       " 2993: Party(name='Teva Pharmaceutical Industries Ltd.', party_id=2993, role='Defendant'),\n",
       " 1087: Party(name='Teva Pharmaceuticals USA, Inc.', party_id=1087, role='Defendant'),\n",
       " 27: Party(name='Mylan Pharmaceuticals, Inc.', party_id=27, role='Defendant'),\n",
       " 1855: Party(name='Barr Laboratories, Inc.', party_id=1855, role='Defendant'),\n",
       " 52552843: Party(name='End Payor Class Plaintiffs', party_id=52552843, role='Plaintiff'),\n",
       " 20027124: Party(name='Ranbaxy Laboratories Limited', party_id=20027124, role='Defendant'),\n",
       " 20047290: Party(name='Vista Health Plan, Inc.', party_id=20047290, role='Plaintiff'),\n",
       " 20030256: Party(name='Ranbaxy Pharmaceuticals Inc.', party_id=20030256, role='Defendant'),\n",
       " 20036179: Party(name='Cephalon, Inc.', party_id=20036179, role='Defendant'),\n",
       " 20020989: Party(name='Mylan Laboratories, Inc.', party_id=20020989, role='Defendant'),\n",
       " 37904: Party(name='Pennsylvania Employees Benefit Trust Fund', party_id=37904, role='Plaintiff')}"
      ]
     },
     "execution_count": 115,
     "metadata": {},
     "output_type": "execute_result"
    }
   ],
   "source": [
    "parties_by_id_by_case_id[97091]"
   ]
  },
  {
   "cell_type": "code",
   "execution_count": 192,
   "id": "b6068f2d-d06d-4ad3-8d4d-3a3d1dd9bab6",
   "metadata": {},
   "outputs": [],
   "source": [
    "column_names = ['case id', 'case number', 'case title', 'law_firm', 'law_firm_id', 'party', 'party_id', 'role']"
   ]
  },
  {
   "cell_type": "code",
   "execution_count": 193,
   "id": "64bd7dec-64a6-4c60-84e7-f4e96d056bc9",
   "metadata": {},
   "outputs": [],
   "source": [
    "rows = []"
   ]
  },
  {
   "cell_type": "code",
   "execution_count": 194,
   "id": "34198f78-afaf-47d9-8593-212f3e138fb2",
   "metadata": {},
   "outputs": [],
   "source": [
    "rows.append(column_names)"
   ]
  },
  {
   "cell_type": "code",
   "execution_count": 195,
   "id": "e8cfcf6c-0c76-460c-8be8-c40185b80a45",
   "metadata": {},
   "outputs": [],
   "source": [
    "for c in case_data:\n",
    "    for law_firm in c.law_firms:\n",
    "        for party_id in law_firm.client_party_ids:\n",
    "            party = parties_by_id_by_case_id[c.district_case_id][party_id]\n",
    "            rows.append(\n",
    "                (\n",
    "                    c.district_case_id,\n",
    "                    c.case_no,\n",
    "                    c.title,\n",
    "                    law_firm.name,\n",
    "                    law_firm.law_firm_id,\n",
    "                    party.name,\n",
    "                    party.party_id,\n",
    "                    party.role\n",
    "            )\n",
    "            )\n",
    "            "
   ]
  },
  {
   "cell_type": "code",
   "execution_count": 196,
   "id": "5fed65b3-31a2-4ec4-9e4b-2fe3435cded2",
   "metadata": {},
   "outputs": [
    {
     "data": {
      "text/plain": [
       "19084"
      ]
     },
     "execution_count": 196,
     "metadata": {},
     "output_type": "execute_result"
    }
   ],
   "source": [
    "len(rows)"
   ]
  },
  {
   "cell_type": "code",
   "execution_count": 197,
   "id": "c50fbd93-0f85-4d52-bee9-4759bf774e40",
   "metadata": {},
   "outputs": [
    {
     "data": {
      "text/plain": [
       "['case id',\n",
       " 'case number',\n",
       " 'case title',\n",
       " 'law_firm',\n",
       " 'law_firm_id',\n",
       " 'party',\n",
       " 'party_id',\n",
       " 'role']"
      ]
     },
     "execution_count": 197,
     "metadata": {},
     "output_type": "execute_result"
    }
   ],
   "source": [
    "rows[0]"
   ]
  },
  {
   "cell_type": "code",
   "execution_count": 198,
   "id": "a04480d5-2182-4693-a6ca-ccb8328ef5de",
   "metadata": {},
   "outputs": [
    {
     "data": {
      "text/plain": [
       "(97091,\n",
       " '2:06-cv-01833-MSG',\n",
       " 'VISTA HEALTHPLAN, INC. v. CEPHALON, INC. et al',\n",
       " 'Kessler Topaz Meltzer & Check',\n",
       " 27,\n",
       " 'SHIRLEY PANEBIANO',\n",
       " 257121,\n",
       " 'Plaintiff')"
      ]
     },
     "execution_count": 198,
     "metadata": {},
     "output_type": "execute_result"
    }
   ],
   "source": [
    "rows[1]"
   ]
  },
  {
   "cell_type": "code",
   "execution_count": 199,
   "id": "053c2b2a-03e5-4c7d-9878-51822201b376",
   "metadata": {},
   "outputs": [
    {
     "data": {
      "text/plain": [
       "(2005150350,\n",
       " '3:20-cv-05792-JD',\n",
       " 'In re Google Play Developer Antitrust Litigation',\n",
       " \"O'Melveny & Myers\",\n",
       " 227639559,\n",
       " 'Google Asia Pacific PTE. Limited',\n",
       " 52824280,\n",
       " 'Defendant')"
      ]
     },
     "execution_count": 199,
     "metadata": {},
     "output_type": "execute_result"
    }
   ],
   "source": [
    "rows[10000]"
   ]
  },
  {
   "cell_type": "code",
   "execution_count": 201,
   "id": "4a93247c-fd30-416a-9292-c9ac8ef79088",
   "metadata": {},
   "outputs": [
    {
     "data": {
      "text/plain": [
       "(2034774512,\n",
       " '3:24-cv-09118-VC',\n",
       " 'Kushner et al v. Chunghwa Picture Tubes, Ltd. et al',\n",
       " 'Goldman Scarlato & Penny',\n",
       " 15211344,\n",
       " 'Barry Kushner',\n",
       " 10805,\n",
       " 'Plaintiff')"
      ]
     },
     "execution_count": 201,
     "metadata": {},
     "output_type": "execute_result"
    }
   ],
   "source": [
    "rows[-1]"
   ]
  },
  {
   "cell_type": "code",
   "execution_count": 140,
   "id": "f613953c-3284-42f2-9ef7-111f507f6f01",
   "metadata": {},
   "outputs": [],
   "source": [
    "from openpyxl import Workbook"
   ]
  },
  {
   "cell_type": "code",
   "execution_count": 202,
   "id": "bf3996a5-6605-45b9-a250-a092b583e756",
   "metadata": {},
   "outputs": [],
   "source": [
    "wb.close()"
   ]
  },
  {
   "cell_type": "code",
   "execution_count": 203,
   "id": "cd0f289b-cb72-4f93-8ec9-347fd3513293",
   "metadata": {},
   "outputs": [],
   "source": [
    "wb = Workbook()"
   ]
  },
  {
   "cell_type": "code",
   "execution_count": 204,
   "id": "d92307cb-c9d7-49a1-812d-05e68b09b448",
   "metadata": {},
   "outputs": [],
   "source": [
    "ws = wb.active"
   ]
  },
  {
   "cell_type": "code",
   "execution_count": 205,
   "id": "038d3234-2147-497d-8c49-ee1b4f6e2913",
   "metadata": {},
   "outputs": [],
   "source": [
    "for r in rows:\n",
    "    ws.append(r)"
   ]
  },
  {
   "cell_type": "code",
   "execution_count": 206,
   "id": "662327a4-07d1-4de2-84ac-38935232d567",
   "metadata": {},
   "outputs": [],
   "source": [
    "wb.save(\"antitrust_terminated_2024_law_firms.xlsx\")"
   ]
  },
  {
   "cell_type": "code",
   "execution_count": 207,
   "id": "319a6849-254f-4b6a-b220-8d2cb70b70e0",
   "metadata": {},
   "outputs": [],
   "source": [
    "wb.close()"
   ]
  }
 ],
 "metadata": {
  "kernelspec": {
   "display_name": "Python 3 (ipykernel)",
   "language": "python",
   "name": "python3"
  },
  "language_info": {
   "codemirror_mode": {
    "name": "ipython",
    "version": 3
   },
   "file_extension": ".py",
   "mimetype": "text/x-python",
   "name": "python",
   "nbconvert_exporter": "python",
   "pygments_lexer": "ipython3",
   "version": "3.11.6"
  }
 },
 "nbformat": 4,
 "nbformat_minor": 5
}
