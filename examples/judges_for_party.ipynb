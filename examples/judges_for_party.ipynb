{
 "cells": [
  {
   "cell_type": "code",
   "execution_count": 14,
   "id": "initial_id",
   "metadata": {
    "collapsed": true,
    "ExecuteTime": {
     "end_time": "2023-09-19T23:52:07.036312Z",
     "start_time": "2023-09-19T23:52:07.031644Z"
    }
   },
   "outputs": [],
   "source": [
    "from lexmachina import LexMachinaAsyncClient\n",
    "from lexmachina import StateCaseQueryRequest\n",
    "import asyncio\n",
    "from typing import Optional"
   ]
  },
  {
   "cell_type": "code",
   "execution_count": 13,
   "outputs": [],
   "source": [
    "client = LexMachinaAsyncClient(config_file_path='../config/config.ini')"
   ],
   "metadata": {
    "collapsed": false,
    "ExecuteTime": {
     "end_time": "2023-09-19T23:51:47.558425Z",
     "start_time": "2023-09-19T23:51:47.556581Z"
    }
   },
   "id": "6b2892d11fa60d6b"
  },
  {
   "cell_type": "markdown",
   "source": [
    "In order to get the judges for a specific party, here we first locate the party id.\n",
    "Here we are using a very simplistic method where we take the most frequently occurring party returned from party search to be the correct one. \n",
    "That can be revisited, or else you can look up the party in the LexMachina product ahead of time."
   ],
   "metadata": {
    "collapsed": false
   },
   "id": "55dbdc2784b68c34"
  },
  {
   "cell_type": "code",
   "execution_count": 39,
   "outputs": [],
   "source": [
    "async def num_lex_cases_for_party(party_id: int): \n",
    "    query = StateCaseQueryRequest()\n",
    "    query.include_parties(party_id)\n",
    "    query.include_state('CA')\n",
    "    cases = await client.query_state_cases_case(query=query, options={'pageThrough': True}, page_size=100)\n",
    "    return len(cases)\n",
    "\n",
    "async def get_party_id(name: str) -> int:\n",
    "    candidates = await client.search_parties(name, page_size=10)\n",
    "    candidates = candidates['parties']\n",
    "    candidates = [party['partyId'] for party in candidates]\n",
    "    num_cases = await asyncio.gather(*[num_lex_cases_for_party(cand) for cand in candidates])\n",
    "    most_freq = sorted(zip(candidates, num_cases), key=lambda tup: tup[1], reverse=True)[0]\n",
    "    return most_freq[0]"
   ],
   "metadata": {
    "collapsed": false,
    "ExecuteTime": {
     "end_time": "2023-09-20T00:04:26.323450Z",
     "start_time": "2023-09-20T00:04:26.316594Z"
    }
   },
   "id": "da21ff85b4cbe623"
  },
  {
   "cell_type": "markdown",
   "source": [],
   "metadata": {
    "collapsed": false
   },
   "id": "b691bb45b29fdcf6"
  },
  {
   "cell_type": "code",
   "execution_count": 40,
   "outputs": [
    {
     "name": "stdout",
     "output_type": "stream",
     "text": [
      "39480\n"
     ]
    }
   ],
   "source": [
    "party_id = await get_party_id('liberty mutual')\n",
    "print(party_id)"
   ],
   "metadata": {
    "collapsed": false,
    "ExecuteTime": {
     "end_time": "2023-09-20T00:04:35.142423Z",
     "start_time": "2023-09-20T00:04:29.356413Z"
    }
   },
   "id": "789d408e46cdaa43"
  },
  {
   "cell_type": "markdown",
   "source": [
    "Next, we'll gather information about the cases this party was in, filtering by role if desired.\n",
    "From the cases, we'll aggregate the judges presiding over these cases, ultimately selecting those who did so the most often."
   ],
   "metadata": {
    "collapsed": false
   },
   "id": "9ba3bd35857c0cc"
  },
  {
   "cell_type": "code",
   "execution_count": 65,
   "outputs": [],
   "source": [
    "async def lex_judges_for_party(party_id: int, role: Optional[str] = None, state: str = 'CA'):\n",
    "    case_infos = await lex_cases_for_party_role(party_id, role, state)\n",
    "    case_ids = list(lex_case['stateCaseId'] for lex_case in case_infos)\n",
    "    print(f'there are {len(case_ids)} cases in {state} where {party_id} has the role: {role}')\n",
    "    cases = await asyncio.gather(*[client.get_state_cases(case) for case in case_ids])\n",
    "    return [j for lex_case in cases for j in lex_case['judges']]\n",
    "    \n",
    "        \n",
    "async def lex_cases_for_party_role(party_id: int, role: Optional[str] = None, state: str = 'CA'):\n",
    "    query = StateCaseQueryRequest()\n",
    "    query.include_state(state)\n",
    "    if not role:\n",
    "        query.include_parties(party_id)\n",
    "    elif role.lower() == 'defendant':\n",
    "        query.parties_include_defendant(party_id)\n",
    "    elif role.lower() == 'plaintiff':\n",
    "        query.parties_include_plaintiff(party_id)\n",
    "    return await client.query_state_cases_case(query=query, options={'pageThrough': True}, page_size=100)\n",
    "\n"
   ],
   "metadata": {
    "collapsed": false,
    "ExecuteTime": {
     "end_time": "2023-09-20T03:36:25.287922Z",
     "start_time": "2023-09-20T03:36:25.281554Z"
    }
   },
   "id": "667cb87c79770626"
  },
  {
   "cell_type": "code",
   "execution_count": 66,
   "outputs": [
    {
     "name": "stdout",
     "output_type": "stream",
     "text": [
      "there are 628 cases in CA where 39480 has the role: defendant\n"
     ]
    },
    {
     "name": "stderr",
     "output_type": "stream",
     "text": [
      "/var/folders/28/ypdf21ds5pjbzh29zsr53hhm0000gr/T/ipykernel_19404/3906820992.py:5: RuntimeWarning: coroutine 'wait_for' was never awaited\n",
      "  all_judges = await lex_judges_for_party(party_id=party_id, role='defendant')\n",
      "RuntimeWarning: Enable tracemalloc to get the object allocation traceback\n",
      "/var/folders/28/ypdf21ds5pjbzh29zsr53hhm0000gr/T/ipykernel_19404/3906820992.py:5: RuntimeWarning: coroutine 'lex_judges_for_party' was never awaited\n",
      "  all_judges = await lex_judges_for_party(party_id=party_id, role='defendant')\n",
      "RuntimeWarning: Enable tracemalloc to get the object allocation traceback\n"
     ]
    }
   ],
   "source": [
    "from collections import Counter\n",
    "\n",
    "judge_counts = Counter()\n",
    "judge_id_to_name = dict()\n",
    "all_judges = await lex_judges_for_party(party_id=party_id, role='defendant')\n",
    "for i, judge_info in enumerate(all_judges):\n",
    "    judge_name = judge_info['name']\n",
    "    judge_id = judge_info['stateJudgeId']\n",
    "    judge_id_to_name[judge_id] = judge_name\n",
    "    judge_counts[judge_id] += 1   "
   ],
   "metadata": {
    "collapsed": false,
    "ExecuteTime": {
     "end_time": "2023-09-20T03:36:47.840656Z",
     "start_time": "2023-09-20T03:36:27.444839Z"
    }
   },
   "id": "8c381f1e9dc78f23"
  },
  {
   "cell_type": "code",
   "execution_count": 67,
   "outputs": [
    {
     "name": "stdout",
     "output_type": "stream",
     "text": [
      "Judge Amy Nicole Carter: 17 cases\n",
      "Judge Katherine A Bacal: 15 cases\n",
      "Judge Gregory W Pollack: 13 cases\n",
      "Judge Timothy B Taylor: 12 cases\n",
      "Judge Richard E L Strauss: 10 cases\n",
      "Judge Joel R Wohlfeil: 10 cases\n",
      "Judge David Justin Cowan: 10 cases\n",
      "Judge Nathan R Scott: 10 cases\n",
      "Judge Mark Chong Kim: 10 cases\n",
      "Judge Linda S Marks: 10 cases\n",
      "Judge Michelle Williams Court: 9 cases\n",
      "Judge Robert J Moss: 9 cases\n",
      "Judge Richard S Whitney: 9 cases\n",
      "Judge Peter A Hernandez: 9 cases\n",
      "Judge Deirdre Hughes Hill: 9 cases\n",
      "Judge Barbara Ann Meiers: 9 cases\n",
      "Judge Stephen Ira Goorvitch: 8 cases\n",
      "Judge John S Meyer: 8 cases\n",
      "Judge Barbara Marie Scheper: 8 cases\n",
      "Judge Gerrit Wardell Wood: 8 cases\n"
     ]
    }
   ],
   "source": [
    "for judge_id, ct in judge_counts.most_common(20):\n",
    "    print(f'Judge {judge_id_to_name[judge_id]}: {ct} cases')\n",
    "    "
   ],
   "metadata": {
    "collapsed": false,
    "ExecuteTime": {
     "end_time": "2023-09-20T03:36:57.302265Z",
     "start_time": "2023-09-20T03:36:57.298750Z"
    }
   },
   "id": "3f940548b7fe8c69"
  }
 ],
 "metadata": {
  "kernelspec": {
   "display_name": "Python 3",
   "language": "python",
   "name": "python3"
  },
  "language_info": {
   "codemirror_mode": {
    "name": "ipython",
    "version": 2
   },
   "file_extension": ".py",
   "mimetype": "text/x-python",
   "name": "python",
   "nbconvert_exporter": "python",
   "pygments_lexer": "ipython2",
   "version": "2.7.6"
  }
 },
 "nbformat": 4,
 "nbformat_minor": 5
}
