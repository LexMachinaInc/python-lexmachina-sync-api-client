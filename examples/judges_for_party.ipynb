{
 "cells": [
  {
   "cell_type": "code",
   "execution_count": 131,
   "id": "initial_id",
   "metadata": {
    "collapsed": true,
    "ExecuteTime": {
     "end_time": "2023-09-19T23:06:14.139365Z",
     "start_time": "2023-09-19T23:06:14.133639Z"
    }
   },
   "outputs": [],
   "source": [
    "from lexmachina import LexMachinaClient\n",
    "from lexmachina import StateCaseQueryRequest\n",
    "\n",
    "from typing import Optional\n"
   ]
  },
  {
   "cell_type": "code",
   "execution_count": 132,
   "outputs": [],
   "source": [
    "client = LexMachinaClient(config_file_path='../config/config.ini')"
   ],
   "metadata": {
    "collapsed": false,
    "ExecuteTime": {
     "end_time": "2023-09-19T23:06:16.656901Z",
     "start_time": "2023-09-19T23:06:16.653571Z"
    }
   },
   "id": "6b2892d11fa60d6b"
  },
  {
   "cell_type": "markdown",
   "source": [
    "In order to get the judges for a specific party, here we first locate the party id.\n",
    "Here we are using a very simplistic method where we take the most frequently occurring party returned from party search to be the correct one. \n",
    "That can be revisited, or else you can look up the party in the LexMachina product ahead of time."
   ],
   "metadata": {
    "collapsed": false
   },
   "id": "55dbdc2784b68c34"
  },
  {
   "cell_type": "code",
   "execution_count": 91,
   "outputs": [],
   "source": [
    "def num_lex_cases_for_party(party_id: int): \n",
    "    query = StateCaseQueryRequest()\n",
    "    query.include_parties(party_id)\n",
    "    query.include_state('CA')\n",
    "    cases = client.query_state_cases_case(query=query, options={'pageThrough': True}, page_size=100)\n",
    "    return len(cases)\n",
    "\n",
    "def get_party_id(name: str) -> int:\n",
    "    candidates = client.search_parties(name, page_size=10)['parties']\n",
    "    candidates = [party['partyId'] for party in candidates]\n",
    "    num_cases = [num_lex_cases_for_party(cand) for cand in candidates]\n",
    "    most_freq = sorted(zip(candidates, num_cases), key=lambda tup: tup[1], reverse=True)[0]\n",
    "    return most_freq[0]"
   ],
   "metadata": {
    "collapsed": false,
    "ExecuteTime": {
     "end_time": "2023-09-19T22:20:25.898230Z",
     "start_time": "2023-09-19T22:20:25.879607Z"
    }
   },
   "id": "da21ff85b4cbe623"
  },
  {
   "cell_type": "code",
   "execution_count": 119,
   "outputs": [
    {
     "name": "stdout",
     "output_type": "stream",
     "text": [
      "39480\n"
     ]
    }
   ],
   "source": [
    "party_id = get_party_id('liberty mutual')\n",
    "print(party_id)"
   ],
   "metadata": {
    "collapsed": false,
    "ExecuteTime": {
     "end_time": "2023-09-19T22:41:57.502296Z",
     "start_time": "2023-09-19T22:41:44.487859Z"
    }
   },
   "id": "789d408e46cdaa43"
  },
  {
   "cell_type": "markdown",
   "source": [
    "Next, we'll gather information about the cases this party was in, filtering by role if desired.\n",
    "From the cases, we'll aggregate the judges presiding over these cases, ultimately selecting those who did so the most often."
   ],
   "metadata": {
    "collapsed": false
   },
   "id": "9ba3bd35857c0cc"
  },
  {
   "cell_type": "code",
   "execution_count": 139,
   "outputs": [],
   "source": [
    "def lex_judges_for_party(party_id: int, role: Optional[str] = None, state: str = 'CA'):\n",
    "    cases = list(lex_cases_for_party_role(party_id, role, state))\n",
    "    print(f'there are {len(cases)} cases in {state} where {party_id} has the role: {role}')\n",
    "    for i, case_info in enumerate(cases):\n",
    "        if i % 20 == 0:\n",
    "            print(f'case {i} of {len(cases)}')\n",
    "        yield from judges_for_lex_case(case_info['stateCaseId'])\n",
    "        \n",
    "def lex_cases_for_party_role(party_id: int, role: Optional[str] = None, state: str = 'CA'):\n",
    "    query = StateCaseQueryRequest()\n",
    "    query.include_state(state)\n",
    "    if not role:\n",
    "        query.include_parties(party_id)\n",
    "    elif role.lower() == 'defendant':\n",
    "        query.parties_include_defendant(party_id)\n",
    "    elif role.lower() == 'plaintiff':\n",
    "        query.parties_include_plaintiff(party_id)\n",
    "    return client.query_state_cases_case(query=query, options={'pageThrough': True}, page_size=100)\n",
    "\n",
    "def judges_for_lex_case(case_id: int):\n",
    "    lex_case = client.get_state_cases(case_id)\n",
    "    judges = lex_case['judges']\n",
    "    yield from judges\n"
   ],
   "metadata": {
    "collapsed": false,
    "ExecuteTime": {
     "end_time": "2023-09-19T23:09:43.372105Z",
     "start_time": "2023-09-19T23:09:43.366884Z"
    }
   },
   "id": "667cb87c79770626"
  },
  {
   "cell_type": "code",
   "execution_count": null,
   "outputs": [
    {
     "name": "stdout",
     "output_type": "stream",
     "text": [
      "there are 628 cases in CA where 39480 has the role: defendant\n",
      "case 0 of 628\n",
      "case 20 of 628\n",
      "case 40 of 628\n",
      "case 60 of 628\n",
      "case 80 of 628\n",
      "case 100 of 628\n"
     ]
    }
   ],
   "source": [
    "from collections import Counter\n",
    "\n",
    "judge_counts = Counter()\n",
    "judge_id_to_name = dict()\n",
    "all_judges = lex_judges_for_party(party_id=party_id, role='defendant')\n",
    "for i, judge_info in enumerate(all_judges):\n",
    "    judge_name = judge_info['name']\n",
    "    judge_id = judge_info['stateJudgeId']\n",
    "    judge_id_to_name[judge_id] = judge_name\n",
    "    judge_counts[judge_id] += 1   "
   ],
   "metadata": {
    "collapsed": false,
    "is_executing": true,
    "ExecuteTime": {
     "start_time": "2023-09-19T23:09:46.459395Z"
    }
   },
   "id": "8c381f1e9dc78f23"
  },
  {
   "cell_type": "code",
   "execution_count": null,
   "outputs": [],
   "source": [
    "judge_counts.most_common(10)"
   ],
   "metadata": {
    "collapsed": false,
    "ExecuteTime": {
     "start_time": "2023-09-19T22:49:46.587675Z"
    }
   },
   "id": "3f940548b7fe8c69"
  },
  {
   "cell_type": "code",
   "execution_count": null,
   "outputs": [],
   "source": [],
   "metadata": {
    "collapsed": false
   },
   "id": "3143ca4c41a35e85"
  }
 ],
 "metadata": {
  "kernelspec": {
   "display_name": "Python 3",
   "language": "python",
   "name": "python3"
  },
  "language_info": {
   "codemirror_mode": {
    "name": "ipython",
    "version": 2
   },
   "file_extension": ".py",
   "mimetype": "text/x-python",
   "name": "python",
   "nbconvert_exporter": "python",
   "pygments_lexer": "ipython2",
   "version": "2.7.6"
  }
 },
 "nbformat": 4,
 "nbformat_minor": 5
}
