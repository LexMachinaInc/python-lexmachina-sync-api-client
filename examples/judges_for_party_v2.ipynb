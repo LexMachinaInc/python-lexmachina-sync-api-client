{
 "cells": [
  {
   "cell_type": "code",
   "execution_count": 1,
   "id": "78ee097e-7891-4e8b-ba0a-73293e6986d0",
   "metadata": {},
   "outputs": [],
   "source": [
    "import lexmachina\n",
    "from lexmachina.rest import ApiException\n",
    "from pprint import pprint\n",
    "import os"
   ]
  },
  {
   "cell_type": "code",
   "execution_count": 2,
   "id": "a8d3585f-3c47-4ae7-a52c-174e6ba971ca",
   "metadata": {},
   "outputs": [],
   "source": [
    "configuration = lexmachina.Configuration(\n",
    "    host=\"https://api.lexmachina.com\",\n",
    "    access_token=os.environ[\"BEARER_TOKEN\"]\n",
    ")"
   ]
  },
  {
   "cell_type": "code",
   "execution_count": 3,
   "id": "7926fdef-0177-4c41-971d-94cabf392109",
   "metadata": {},
   "outputs": [],
   "source": [
    "api_client = lexmachina.ApiClient(configuration) "
   ]
  },
  {
   "cell_type": "code",
   "execution_count": 4,
   "id": "a1f45ec1-1c84-4847-827f-8f8fedace006",
   "metadata": {},
   "outputs": [],
   "source": [
    "fed_api = lexmachina.FederalDistrictCasesApi(api_client)"
   ]
  },
  {
   "cell_type": "code",
   "execution_count": 5,
   "id": "682dd0d4-a6a6-4e26-bef6-cada1f7db147",
   "metadata": {},
   "outputs": [],
   "source": [
    "fed_response = fed_api.find_district_case_by_number(case_numbers=['2:23-cv-00640-JRG'], court='njd')"
   ]
  },
  {
   "cell_type": "code",
   "execution_count": 6,
   "id": "ae890e87-aeba-4d05-8f07-1990346956b2",
   "metadata": {},
   "outputs": [
    {
     "name": "stdout",
     "output_type": "stream",
     "text": [
      "[DistrictCaseNumberSearchResult(total_count=1, input_case_number='2:23-cv-00640-JRG', input_court='njd', matches=[DistrictCaseNumberReference(url='https://api.lexmachina.com/district-cases/2008568306', district_case_id=2008568306, case_number='2:23-cv-00640', court='U.S. District Court for the District of New Jersey', title='BOLIVAR et al v. PERKINS')])]\n"
     ]
    }
   ],
   "source": [
    "pprint(fed_response)"
   ]
  },
  {
   "cell_type": "code",
   "execution_count": 7,
   "id": "89c34210-013e-498e-bc3e-4bee6c99a306",
   "metadata": {},
   "outputs": [],
   "source": [
    "party_api = lexmachina.PartiesApi(api_client)"
   ]
  },
  {
   "cell_type": "code",
   "execution_count": 8,
   "id": "be8938db-c04e-4692-9abc-9535093bbc50",
   "metadata": {},
   "outputs": [],
   "source": [
    "# Just take the first result\n",
    "party_response = party_api.search_parties(q='liberty mutual', page_number=1, page_size=1)"
   ]
  },
  {
   "cell_type": "code",
   "execution_count": 9,
   "id": "be21648c-e7db-4985-bf1c-ec03bb16a171",
   "metadata": {},
   "outputs": [
    {
     "name": "stdout",
     "output_type": "stream",
     "text": [
      "PartySearchResults(total_count=1176, page=1, next_page='http://api.lexmachina.com/search-parties?q=liberty%20mutual&pageNumber=1&pageSize=1?q=liberty mutual&pageNumber=2&pageSize=1', parties=[PartyResult(name='Liberty Mutual Insurance Company', party_id=39480, url='https://api.lexmachina.com/parties/39480')])\n"
     ]
    }
   ],
   "source": [
    "pprint(party_response)"
   ]
  },
  {
   "cell_type": "code",
   "execution_count": 10,
   "id": "bb9dafb9-8ec3-4699-b08f-f4053b937507",
   "metadata": {},
   "outputs": [
    {
     "data": {
      "text/plain": [
       "39480"
      ]
     },
     "execution_count": 10,
     "metadata": {},
     "output_type": "execute_result"
    }
   ],
   "source": [
    "party_response.parties[0].party_id"
   ]
  },
  {
   "cell_type": "code",
   "execution_count": 11,
   "id": "d5650b3f-45c1-4914-9a2c-3a349c933485",
   "metadata": {},
   "outputs": [],
   "source": [
    "state_api = lexmachina.StateCasesApi(api_client)"
   ]
  },
  {
   "cell_type": "code",
   "execution_count": 12,
   "id": "01696164-8a29-41e3-9885-cd2cd0fead0b",
   "metadata": {},
   "outputs": [],
   "source": [
    "state_case_ids = []"
   ]
  },
  {
   "cell_type": "code",
   "execution_count": 13,
   "id": "6cab19d0-9ffd-4643-a8da-bc7683fb7f6a",
   "metadata": {},
   "outputs": [],
   "source": [
    "state_case_query = {\n",
    "    \"parties\": {\n",
    "        \"include_defendant\": [party_response.parties[0].party_id]\n",
    "    },\n",
    "    \"courts\": {\"state\": \"CA\"},\n",
    "    \"pageSize\": 100,\n",
    "    'page': 1\n",
    "}\n",
    "    "
   ]
  },
  {
   "cell_type": "code",
   "execution_count": 14,
   "id": "e0964d4b-9a5a-406c-ad98-e4f85ba5cc5e",
   "metadata": {},
   "outputs": [
    {
     "name": "stdout",
     "output_type": "stream",
     "text": [
      "current_page=1\n",
      "current_page=2\n",
      "current_page=3\n",
      "current_page=4\n",
      "current_page=5\n",
      "current_page=6\n",
      "current_page=7\n",
      "current_page=8\n",
      "done paging\n",
      "all state cases has length 774\n"
     ]
    }
   ],
   "source": [
    "done_paging = False\n",
    "while not done_paging:\n",
    "    state_query_response = state_api.query_state_cases(state_case_query)\n",
    "    if state_query_response.cases:\n",
    "        current_page = state_case_query['page']\n",
    "        print(f'{current_page=}')\n",
    "        result_case_ids = [caseref.state_case_id for caseref in state_query_response.cases]\n",
    "        state_case_ids += result_case_ids\n",
    "        state_case_query['page'] = current_page + 1\n",
    "    else:\n",
    "        print(\"done paging\")\n",
    "        print(f'all state cases has length {len(state_case_ids)}')\n",
    "        done_paging=True\n",
    "    "
   ]
  },
  {
   "cell_type": "code",
   "execution_count": 15,
   "id": "d6fd3340-1cf4-4454-8ce8-f9807d832f6d",
   "metadata": {},
   "outputs": [],
   "source": [
    "get_state_case_response = state_api.get_state_case(2006280193)"
   ]
  },
  {
   "cell_type": "code",
   "execution_count": 16,
   "id": "e2e99025-8747-4fb8-b03a-a96504b4c723",
   "metadata": {},
   "outputs": [
    {
     "name": "stdout",
     "output_type": "stream",
     "text": [
      "StateCaseData(state_case_id=2006280193, title='ARB, INC. VS. STANTON ENERGY RELIABILITY CENTER, LLC', state='California', court='Orange County Superior Court', case_no='30-2020-01160136', status=<CaseStatus.TERMINATED: 'Terminated'>, case_type=['Contracts (CA)'], case_tags=['General Jurisdiction'], dates=StateCaseDates(filed=datetime.date(2020, 9, 14), terminated=datetime.date(2022, 8, 25), trial=None), resolution=None, events=[CaseEvent(type='Filed', occurred=datetime.date(2020, 9, 14)), CaseEvent(type='Terminated', occurred=datetime.date(2022, 8, 25))], judges=[StateJudge(name='Derek W Hunt', state_judge_id=2661)], rulings=StateCaseRulingsByStatus(active=[]), law_firms=[LawFirm(name='Rutan & Tucker', law_firm_id=24625, client_party_ids=[156573])], attorneys=[Attorney(name='Philip J. Blanchard', attorney_id=17202199, law_firm_ids=[24625], clients_party_ids=[156573]), Attorney(name='Briana F. Richmond', attorney_id=169032428, law_firm_ids=[24625], clients_party_ids=[156573])], parties=[Party(name='ARB, INC.', party_id=156573, role='Plaintiff'), Party(name='LIBERTY MUTUAL INSURANCE COMPANY', party_id=39480, role='Defendant'), Party(name='STANTON ENERGY RELIABILITY CENTER, LLC', party_id=272225386, role='Defendant')], damages=StateCaseDamagesByStatus(active=[]), docket=StateDocket(entries=[], retrieved=<DocketEntriesIncludedInOutput.NONE: 'none'>, count=36))\n"
     ]
    }
   ],
   "source": [
    "pprint(get_state_case_response)"
   ]
  },
  {
   "cell_type": "code",
   "execution_count": 17,
   "id": "8ea1e9fb-9f33-45ae-a927-b6249063ee45",
   "metadata": {},
   "outputs": [
    {
     "data": {
      "text/plain": [
       "[StateJudge(name='Derek W Hunt', state_judge_id=2661)]"
      ]
     },
     "execution_count": 17,
     "metadata": {},
     "output_type": "execute_result"
    }
   ],
   "source": [
    "get_state_case_response.judges"
   ]
  },
  {
   "cell_type": "code",
   "execution_count": null,
   "id": "3994cb41-8256-41ed-9355-a83369166077",
   "metadata": {},
   "outputs": [
    {
     "name": "stdout",
     "output_type": "stream",
     "text": [
      "Finished processing 50 out of 774 cases. judges has this length: 54, number of unique judges: 45\n",
      "Finished processing 100 out of 774 cases. judges has this length: 107, number of unique judges: 82\n"
     ]
    }
   ],
   "source": [
    "all_judges = []\n",
    "num_cases_processed = 0\n",
    "for case_id in state_case_ids:\n",
    "    get_state_case_response = state_api.get_state_case(case_id)\n",
    "    case_judges = [(j.name, j.state_judge_id) for j in get_state_case_response.judges]\n",
    "    all_judges += case_judges\n",
    "    num_cases_processed += 1\n",
    "    if num_cases_processed % 50 == 0:\n",
    "        print(f'Finished processing {num_cases_processed} out of {len(state_case_ids)} cases. judges has this length: {len(all_judges)}, number of unique judges: {len(set(all_judges))}')"
   ]
  },
  {
   "cell_type": "code",
   "execution_count": 18,
   "id": "22f3105f-2f61-495d-bb2e-0ffc39a9fa2c",
   "metadata": {},
   "outputs": [
    {
     "data": {
      "text/plain": [
       "1031"
      ]
     },
     "execution_count": 18,
     "metadata": {},
     "output_type": "execute_result"
    }
   ],
   "source": [
    "len(all_judges)"
   ]
  },
  {
   "cell_type": "code",
   "execution_count": 20,
   "id": "43181d3f-76d1-4a00-8501-35b0d8336465",
   "metadata": {},
   "outputs": [
    {
     "data": {
      "text/plain": [
       "327"
      ]
     },
     "execution_count": 20,
     "metadata": {},
     "output_type": "execute_result"
    }
   ],
   "source": [
    "len(set(all_judges))"
   ]
  },
  {
   "cell_type": "code",
   "execution_count": 23,
   "id": "f8d52eb0-ceec-4ac4-9184-f714108d76c1",
   "metadata": {},
   "outputs": [
    {
     "data": {
      "text/plain": [
       "[('Donna Marie Gunnell Garza', 982),\n",
       " ('Donald Robert Alvarez', 980),\n",
       " ('Robert P Dahlquist', 1505),\n",
       " ('Richard E L Strauss', 1392),\n",
       " ('Stephen Ira Goorvitch', 619)]"
      ]
     },
     "execution_count": 23,
     "metadata": {},
     "output_type": "execute_result"
    }
   ],
   "source": [
    "all_judges[:5]"
   ]
  },
  {
   "cell_type": "code",
   "execution_count": 22,
   "id": "2faf0773-b807-4503-8efb-498643abf34d",
   "metadata": {},
   "outputs": [],
   "source": [
    "from collections import Counter"
   ]
  },
  {
   "cell_type": "code",
   "execution_count": 25,
   "id": "e5089183-d20a-4d1a-8c8e-c605e4c21ca2",
   "metadata": {},
   "outputs": [],
   "source": [
    "judge_counts = Counter()\n",
    "for judge_info in all_judges:\n",
    "    judge_counts[judge_info] += 1   "
   ]
  },
  {
   "cell_type": "code",
   "execution_count": 26,
   "id": "81b591ff-0efb-45a1-8954-5289d06de2f4",
   "metadata": {},
   "outputs": [
    {
     "data": {
      "text/plain": [
       "[(('Katherine A Bacal', 1398), 16),\n",
       " (('Gregory W Pollack', 1421), 15),\n",
       " (('Barbara Marie Scheper', 48), 13),\n",
       " (('Richard E L Strauss', 1392), 11),\n",
       " (('Richard S Whitney', 1401), 11),\n",
       " (('Joel R Wohlfeil', 1676), 10),\n",
       " (('Nathan R Scott', 2922), 10),\n",
       " (('Timothy B Taylor', 1665), 10),\n",
       " (('Peter A Hernandez', 505), 10),\n",
       " (('Barbara Ann Meiers', 46), 10),\n",
       " (('Andre De La Cruz', 3004), 10),\n",
       " (('David Justin Cowan', 133), 9),\n",
       " (('Mark Chong Kim', 412), 9),\n",
       " (('Linda S Marks', 2700), 9),\n",
       " (('Jill Therese Feeney', 284), 9),\n",
       " (('Stephen Ira Goorvitch', 619), 8),\n",
       " (('John S Meyer', 1478), 8),\n",
       " (('Deborah C Servino', 2754), 8),\n",
       " (('James L Crandall', 3193), 8),\n",
       " (('Gary Yoshio Tanaka', 210), 8)]"
      ]
     },
     "execution_count": 26,
     "metadata": {},
     "output_type": "execute_result"
    }
   ],
   "source": [
    "judge_counts.most_common(20)"
   ]
  },
  {
   "cell_type": "code",
   "execution_count": null,
   "id": "8c72de6a-5821-409d-a498-53e0f078588f",
   "metadata": {},
   "outputs": [],
   "source": []
  }
 ],
 "metadata": {
  "kernelspec": {
   "display_name": "Python 3 (ipykernel)",
   "language": "python",
   "name": "python3"
  },
  "language_info": {
   "codemirror_mode": {
    "name": "ipython",
    "version": 3
   },
   "file_extension": ".py",
   "mimetype": "text/x-python",
   "name": "python",
   "nbconvert_exporter": "python",
   "pygments_lexer": "ipython3",
   "version": "3.11.6"
  }
 },
 "nbformat": 4,
 "nbformat_minor": 5
}
