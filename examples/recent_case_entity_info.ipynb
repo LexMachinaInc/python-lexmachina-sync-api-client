{
 "cells": [
  {
   "cell_type": "code",
   "execution_count": 22,
   "id": "initial_id",
   "metadata": {},
   "outputs": [],
   "source": [
    "from lexmachina import LexMachinaAsyncClient\n",
    "from lexmachina import DistrictCaseQueryRequest\n",
    "import asyncio\n",
    "from typing import Optional\n",
    "from collections import defaultdict"
   ]
  },
  {
   "cell_type": "code",
   "execution_count": 2,
   "id": "b0edded170a17479",
   "metadata": {},
   "outputs": [],
   "source": [
    "client = LexMachinaAsyncClient(config_file_path='../config/config.ini')"
   ]
  },
  {
   "cell_type": "code",
   "execution_count": 29,
   "id": "fc282e165f0d7b68",
   "metadata": {},
   "outputs": [],
   "source": [
    "async def plaintiff_centric_info_for_date_range(start: str, end: str):\n",
    "    case_infos = await cases_for_date_range(start, end)\n",
    "    case_ids = list(c['districtCaseId'] for c in case_infos)\n",
    "    print(f'there were {len(case_ids)} cases filed {start} and {end}')\n",
    "    cases = await asyncio.gather(*[client.get_district_cases(case) for case in case_ids])\n",
    "    return [get_plaintiffs_entities_and_judges(c) for c in cases]\n",
    "    \n",
    "        \n",
    "async def cases_for_date_range(start: str, end: str):\n",
    "    # format date in ISO format `YYYY-MM-DD`\n",
    "    query = (\n",
    "        DistrictCaseQueryRequest()\n",
    "        .set_date(start, \"filed\", \"onOrAfter\")\n",
    "        .set_date(end, \"filed\", \"onOrBefore\")\n",
    "    )\n",
    "    return await client.query_district_case(query=query, options={'pageThrough': False}, page_size=100)\n",
    "\n",
    "def get_plaintiffs_entities_and_judges(c):\n",
    "    judges = c['judges']\n",
    "    lawfirms = c['lawFirms']\n",
    "    party_firms = defaultdict(set)\n",
    "    for lf in lawfirms:\n",
    "        for client in lf['clientPartyIds']:\n",
    "            party_firms[client].add((lf['name'], lf['lawFirmId']))\n",
    "    attys = c['attorneys']\n",
    "    party_attys = defaultdict(set)\n",
    "    for a in attys:\n",
    "        print(a.)\n",
    "        for client in a['clientPartyIds']:\n",
    "            party_attys[client].add((a['name'], a['attorneyId'], tuple(sorted(a['lawfirmIds']))))\n",
    "    plaintiffs = [p for p in c['parties'] if p['role'] == 'Defendant']\n",
    "    return plaintiffs, lawfirms, attys, judges"
   ]
  },
  {
   "cell_type": "code",
   "execution_count": 30,
   "id": "f5ac4ad5",
   "metadata": {},
   "outputs": [
    {
     "name": "stdout",
     "output_type": "stream",
     "text": [
      "{'cases': [{'url': 'https://api.lexmachina.com/district-cases/2009323903', 'districtCaseId': 2009323903}, {'url': 'https://api.lexmachina.com/district-cases/2009907584', 'districtCaseId': 2009907584}, {'url': 'https://api.lexmachina.com/district-cases/2009907593', 'districtCaseId': 2009907593}, {'url': 'https://api.lexmachina.com/district-cases/2009907594', 'districtCaseId': 2009907594}, {'url': 'https://api.lexmachina.com/district-cases/2009907595', 'districtCaseId': 2009907595}]}\n",
      "there were 5 cases filed 2023-09-20 and 2023-09-22\n"
     ]
    },
    {
     "ename": "KeyError",
     "evalue": "'clientPartyIds'",
     "output_type": "error",
     "traceback": [
      "\u001b[0;31m---------------------------------------------------------------------------\u001b[0m",
      "\u001b[0;31mKeyError\u001b[0m                                  Traceback (most recent call last)",
      "Cell \u001b[0;32mIn[30], line 3\u001b[0m\n\u001b[1;32m      1\u001b[0m start_date \u001b[38;5;241m=\u001b[39m \u001b[38;5;124m'\u001b[39m\u001b[38;5;124m2023-09-20\u001b[39m\u001b[38;5;124m'\u001b[39m\n\u001b[1;32m      2\u001b[0m end_date \u001b[38;5;241m=\u001b[39m \u001b[38;5;124m'\u001b[39m\u001b[38;5;124m2023-09-22\u001b[39m\u001b[38;5;124m'\u001b[39m\n\u001b[0;32m----> 3\u001b[0m \u001b[38;5;28;01mfor\u001b[39;00m parties, lfs, attys, judges \u001b[38;5;129;01min\u001b[39;00m \u001b[38;5;28;01mawait\u001b[39;00m plaintiff_centric_info_for_date_range(start_date, end_date):\n\u001b[1;32m      4\u001b[0m     \u001b[38;5;28mprint\u001b[39m(parties, lfs, attys, judges)\n",
      "Cell \u001b[0;32mIn[29], line 6\u001b[0m, in \u001b[0;36mplaintiff_centric_info_for_date_range\u001b[0;34m(start, end)\u001b[0m\n\u001b[1;32m      4\u001b[0m \u001b[38;5;28mprint\u001b[39m(\u001b[38;5;124mf\u001b[39m\u001b[38;5;124m'\u001b[39m\u001b[38;5;124mthere were \u001b[39m\u001b[38;5;132;01m{\u001b[39;00m\u001b[38;5;28mlen\u001b[39m(case_ids)\u001b[38;5;132;01m}\u001b[39;00m\u001b[38;5;124m cases filed \u001b[39m\u001b[38;5;132;01m{\u001b[39;00mstart\u001b[38;5;132;01m}\u001b[39;00m\u001b[38;5;124m and \u001b[39m\u001b[38;5;132;01m{\u001b[39;00mend\u001b[38;5;132;01m}\u001b[39;00m\u001b[38;5;124m'\u001b[39m)\n\u001b[1;32m      5\u001b[0m cases \u001b[38;5;241m=\u001b[39m \u001b[38;5;28;01mawait\u001b[39;00m asyncio\u001b[38;5;241m.\u001b[39mgather(\u001b[38;5;241m*\u001b[39m[client\u001b[38;5;241m.\u001b[39mget_district_cases(case) \u001b[38;5;28;01mfor\u001b[39;00m case \u001b[38;5;129;01min\u001b[39;00m case_ids])\n\u001b[0;32m----> 6\u001b[0m \u001b[38;5;28;01mreturn\u001b[39;00m [get_plaintiffs_entities_and_judges(c) \u001b[38;5;28;01mfor\u001b[39;00m c \u001b[38;5;129;01min\u001b[39;00m cases]\n",
      "Cell \u001b[0;32mIn[29], line 6\u001b[0m, in \u001b[0;36m<listcomp>\u001b[0;34m(.0)\u001b[0m\n\u001b[1;32m      4\u001b[0m \u001b[38;5;28mprint\u001b[39m(\u001b[38;5;124mf\u001b[39m\u001b[38;5;124m'\u001b[39m\u001b[38;5;124mthere were \u001b[39m\u001b[38;5;132;01m{\u001b[39;00m\u001b[38;5;28mlen\u001b[39m(case_ids)\u001b[38;5;132;01m}\u001b[39;00m\u001b[38;5;124m cases filed \u001b[39m\u001b[38;5;132;01m{\u001b[39;00mstart\u001b[38;5;132;01m}\u001b[39;00m\u001b[38;5;124m and \u001b[39m\u001b[38;5;132;01m{\u001b[39;00mend\u001b[38;5;132;01m}\u001b[39;00m\u001b[38;5;124m'\u001b[39m)\n\u001b[1;32m      5\u001b[0m cases \u001b[38;5;241m=\u001b[39m \u001b[38;5;28;01mawait\u001b[39;00m asyncio\u001b[38;5;241m.\u001b[39mgather(\u001b[38;5;241m*\u001b[39m[client\u001b[38;5;241m.\u001b[39mget_district_cases(case) \u001b[38;5;28;01mfor\u001b[39;00m case \u001b[38;5;129;01min\u001b[39;00m case_ids])\n\u001b[0;32m----> 6\u001b[0m \u001b[38;5;28;01mreturn\u001b[39;00m [\u001b[43mget_plaintiffs_entities_and_judges\u001b[49m\u001b[43m(\u001b[49m\u001b[43mc\u001b[49m\u001b[43m)\u001b[49m \u001b[38;5;28;01mfor\u001b[39;00m c \u001b[38;5;129;01min\u001b[39;00m cases]\n",
      "Cell \u001b[0;32mIn[29], line 28\u001b[0m, in \u001b[0;36mget_plaintiffs_entities_and_judges\u001b[0;34m(c)\u001b[0m\n\u001b[1;32m     26\u001b[0m party_attys \u001b[38;5;241m=\u001b[39m defaultdict(\u001b[38;5;28mset\u001b[39m)\n\u001b[1;32m     27\u001b[0m \u001b[38;5;28;01mfor\u001b[39;00m a \u001b[38;5;129;01min\u001b[39;00m attys:\n\u001b[0;32m---> 28\u001b[0m     \u001b[38;5;28;01mfor\u001b[39;00m client \u001b[38;5;129;01min\u001b[39;00m \u001b[43ma\u001b[49m\u001b[43m[\u001b[49m\u001b[38;5;124;43m'\u001b[39;49m\u001b[38;5;124;43mclientPartyIds\u001b[39;49m\u001b[38;5;124;43m'\u001b[39;49m\u001b[43m]\u001b[49m:\n\u001b[1;32m     29\u001b[0m         party_attys[client]\u001b[38;5;241m.\u001b[39madd((a[\u001b[38;5;124m'\u001b[39m\u001b[38;5;124mname\u001b[39m\u001b[38;5;124m'\u001b[39m], a[\u001b[38;5;124m'\u001b[39m\u001b[38;5;124mattorneyId\u001b[39m\u001b[38;5;124m'\u001b[39m], \u001b[38;5;28mtuple\u001b[39m(\u001b[38;5;28msorted\u001b[39m(a[\u001b[38;5;124m'\u001b[39m\u001b[38;5;124mlawfirmIds\u001b[39m\u001b[38;5;124m'\u001b[39m]))))\n\u001b[1;32m     30\u001b[0m plaintiffs \u001b[38;5;241m=\u001b[39m [p \u001b[38;5;28;01mfor\u001b[39;00m p \u001b[38;5;129;01min\u001b[39;00m c[\u001b[38;5;124m'\u001b[39m\u001b[38;5;124mparties\u001b[39m\u001b[38;5;124m'\u001b[39m] \u001b[38;5;28;01mif\u001b[39;00m p[\u001b[38;5;124m'\u001b[39m\u001b[38;5;124mrole\u001b[39m\u001b[38;5;124m'\u001b[39m] \u001b[38;5;241m==\u001b[39m \u001b[38;5;124m'\u001b[39m\u001b[38;5;124mDefendant\u001b[39m\u001b[38;5;124m'\u001b[39m]\n",
      "\u001b[0;31mKeyError\u001b[0m: 'clientPartyIds'"
     ]
    }
   ],
   "source": [
    "start_date = '2023-09-20'\n",
    "end_date = '2023-09-22'\n",
    "for parties, lfs, attys, judges in await plaintiff_centric_info_for_date_range(start_date, end_date):\n",
    "    print(parties, lfs, attys, judges)"
   ]
  }
 ],
 "metadata": {
  "kernelspec": {
   "display_name": "Python 3 (ipykernel)",
   "language": "python",
   "name": "python3"
  },
  "language_info": {
   "codemirror_mode": {
    "name": "ipython",
    "version": 3
   },
   "file_extension": ".py",
   "mimetype": "text/x-python",
   "name": "python",
   "nbconvert_exporter": "python",
   "pygments_lexer": "ipython3",
   "version": "3.9.11"
  }
 },
 "nbformat": 4,
 "nbformat_minor": 5
}
