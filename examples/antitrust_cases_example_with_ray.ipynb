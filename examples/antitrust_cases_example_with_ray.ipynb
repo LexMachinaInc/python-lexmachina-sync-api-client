{
 "cells": [
  {
   "cell_type": "code",
   "execution_count": 1,
   "id": "ae993c1c-a333-4de3-b2a9-842b31f3a386",
   "metadata": {},
   "outputs": [
    {
     "name": "stderr",
     "output_type": "stream",
     "text": [
      "2025-06-05 14:35:15,500\tINFO util.py:154 -- Missing packages: ['ipywidgets']. Run `pip install -U ipywidgets`, then restart the notebook server for rich notebook output.\n"
     ]
    }
   ],
   "source": [
    "import os\n",
    "from collections import defaultdict\n",
    "import statistics\n",
    "\n",
    "import lexmachina\n",
    "import ray # pip install ray\n",
    "from ray.util import ActorPool\n",
    "from openpyxl import Workbook # pip install openpyxl"
   ]
  },
  {
   "cell_type": "code",
   "execution_count": 2,
   "id": "534a824d-fa1a-436c-8656-7b32f5d200fc",
   "metadata": {},
   "outputs": [],
   "source": [
    "@ray.remote\n",
    "class FedDistrictAPIActor:\n",
    "    \"\"\"ray actor class to use the Lex Machina API's Federal District Case endpoints\"\"\"\n",
    "\n",
    "    def __init__(self):\n",
    "        configuration = lexmachina.Configuration(\n",
    "            host=\"https://api.lexmachina.com\",\n",
    "            access_token=os.environ[\"BEARER_TOKEN\"]\n",
    "        )\n",
    "        api_client = lexmachina.ApiClient(configuration)\n",
    "        self.fed_dist_case_api_instance = lexmachina.FederalDistrictCasesApi(api_client)\n",
    "        \n",
    "        super().__init__()\n",
    "        \n",
    "    def get_query_case_ids(self, query, page_num):\n",
    "        \"\"\"Run query returning ids of cases matching query parameters\"\"\"\n",
    "        query[\"page\"] = page_num\n",
    "        query_response = self.fed_dist_case_api_instance.query_district_cases(query)\n",
    "        if query_response.cases:\n",
    "            result_case_ids = [caseref.district_case_id for caseref in query_response.cases]\n",
    "            return result_case_ids\n",
    "\n",
    "    def get_case_data(self, case_id):\n",
    "        \"\"\"Get detailed case data (e.g. relevant dates, parties, lawyers, judges, etc) on the specified case\"\"\"\n",
    "        return self.fed_dist_case_api_instance.get_district_case(case_id)"
   ]
  },
  {
   "cell_type": "code",
   "execution_count": 3,
   "id": "14cd54fa-6e4a-4c92-94c9-8fe0e3f6a6ce",
   "metadata": {},
   "outputs": [
    {
     "name": "stderr",
     "output_type": "stream",
     "text": [
      "2025-06-05 14:35:19,730\tINFO worker.py:1879 -- Started a local Ray instance. View the dashboard at \u001b[1m\u001b[32mhttp://127.0.0.1:8265 \u001b[39m\u001b[22m\n"
     ]
    }
   ],
   "source": [
    "# Increase or decrease the number of actors depending on desired concurrency\n",
    "num_actors = 3\n",
    "actor_pool = ActorPool([FedDistrictAPIActor.remote() for _ in range(num_actors)])"
   ]
  },
  {
   "cell_type": "code",
   "execution_count": 4,
   "id": "cc7f66a6-6538-4a7f-a330-d56f2878ff83",
   "metadata": {},
   "outputs": [],
   "source": [
    "query = {\n",
    "        \"caseTypes\": {\n",
    "            \"include\": [\n",
    "            \"Antitrust\"\n",
    "            ]\n",
    "        },\n",
    "        \"dates\": {\n",
    "            \"terminated\": {\n",
    "            \"onOrAfter\": \"2024-01-01\",\n",
    "            \"onOrBefore\": \"2024-12-31\"\n",
    "            }\n",
    "        },\n",
    "        \"page\": None, # This will be replaced when actor method is called\n",
    "        \"pageSize\": 100\n",
    "    }"
   ]
  },
  {
   "cell_type": "code",
   "execution_count": 5,
   "id": "1a6bf512-6ae1-4839-9cae-028648cc452b",
   "metadata": {},
   "outputs": [
    {
     "name": "stdout",
     "output_type": "stream",
     "text": [
      "CPU times: user 42.8 ms, sys: 4.83 ms, total: 47.6 ms\n",
      "Wall time: 1.97 s\n"
     ]
    }
   ],
   "source": [
    "# https://law.lexmachina.com/cases/?case_types-include=89&pending-from=2009-01-01&pending-to=&terminated_on-from=2024-01-01&terminated_on-to=2024-12-31\n",
    "# we know there are 671 cases.\n",
    "# So we will do pages 1 through 7.\n",
    "%time case_ids_results = list(actor_pool.map_unordered(lambda a, v: a.get_query_case_ids.remote(query=query, page_num=v), range(1, 8)))"
   ]
  },
  {
   "cell_type": "code",
   "execution_count": 6,
   "id": "469ebb85-93c1-4ed1-9490-25a75816a5aa",
   "metadata": {},
   "outputs": [],
   "source": [
    "case_ids = []\n",
    "for case_ids_list in case_ids_results:\n",
    "    if case_ids_list:\n",
    "        case_ids += case_ids_listIncrease or decrease the number of actors depending on desired concurrency\n",
    "num_actors = 3\n",
    "actor_pool = ActorPool([FedDistrictAPIActor.remote() for _ in range(num_actors)])"
   ]
  },
  {
   "cell_type": "code",
   "execution_count": 7,
   "id": "85c1c82f-8823-4cf4-a43b-77ad14af1544",
   "metadata": {},
   "outputs": [
    {
     "data": {
      "text/plain": [
       "671"
      ]
     },
     "execution_count": 7,
     "metadata": {},
     "output_type": "execute_result"
    }
   ],
   "source": [
    "len(case_ids)"
   ]
  },
  {
   "cell_type": "code",
   "execution_count": 8,
   "id": "7ae6d9ff-219c-4f02-81c8-b77810413deb",
   "metadata": {},
   "outputs": [
    {
     "data": {
      "text/plain": [
       "[2002287215, 2002451208, 2002454286, 2002459834, 2002469927]"
      ]
     },
     "execution_count": 8,
     "metadata": {},
     "output_type": "execute_result"
    }
   ],
   "source": [
    "case_ids[:5]"
   ]
  },
  {
   "cell_type": "code",
   "execution_count": 9,
   "id": "660f0f83-ecdb-4e21-abcd-02f711ed0a57",
   "metadata": {},
   "outputs": [
    {
     "name": "stdout",
     "output_type": "stream",
     "text": [
      "CPU times: user 3.1 s, sys: 914 ms, total: 4.02 s\n",
      "Wall time: 5min 15s\n"
     ]
    }
   ],
   "source": [
    "%time case_data = list(actor_pool.map_unordered(lambda a, v: a.get_case_data.remote(case_id=v), case_ids))"
   ]
  },
  {
   "cell_type": "code",
   "execution_count": 10,
   "id": "c6c40cc4-944f-4108-8038-f1171b847d69",
   "metadata": {},
   "outputs": [
    {
     "data": {
      "text/plain": [
       "671"
      ]
     },
     "execution_count": 10,
     "metadata": {},
     "output_type": "execute_result"
    }
   ],
   "source": [
    "len(case_data)"
   ]
  },
  {
   "cell_type": "code",
   "execution_count": 13,
   "id": "8ac40da8-cd31-49a3-bdf0-16cbf08a77bb",
   "metadata": {},
   "outputs": [],
   "source": [
    "parties_by_id_by_case_id = {}"
   ]
  },
  {
   "cell_type": "code",
   "execution_count": 14,
   "id": "c4a47c85-6044-45c8-9e79-e3d21f62402d",
   "metadata": {},
   "outputs": [],
   "source": [
    "for c in case_data:\n",
    "    parties_by_id_by_case_id[c.district_case_id] = {}\n",
    "    for p in c.parties:\n",
    "        parties_by_id_by_case_id[c.district_case_id][p.party_id] = p"
   ]
  },
  {
   "cell_type": "code",
   "execution_count": 15,
   "id": "b6068f2d-d06d-4ad3-8d4d-3a3d1dd9bab6",
   "metadata": {},
   "outputs": [],
   "source": [
    "column_names = ['case id', 'case title', 'case number', 'court', 'judges', 'date filed', 'date terminated', 'law_firms', 'parties']"
   ]
  },
  {
   "cell_type": "code",
   "execution_count": 16,
   "id": "64bd7dec-64a6-4c60-84e7-f4e96d056bc9",
   "metadata": {},
   "outputs": [],
   "source": [
    "rows = []"
   ]
  },
  {
   "cell_type": "code",
   "execution_count": 17,
   "id": "34198f78-afaf-47d9-8593-212f3e138fb2",
   "metadata": {},
   "outputs": [],
   "source": [
    "rows.append(column_names)"
   ]
  },
  {
   "cell_type": "code",
   "execution_count": 18,
   "id": "e8cfcf6c-0c76-460c-8be8-c40185b80a45",
   "metadata": {},
   "outputs": [],
   "source": [
    "for c in case_data:\n",
    "    all_party_ids = []\n",
    "    for law_firm in c.law_firms:\n",
    "        all_party_ids += law_firm.client_party_ids\n",
    "        \n",
    "    parties = [parties_by_id_by_case_id[c.district_case_id][party_id].name for party_id in all_party_ids]\n",
    "    parties = set(parties)\n",
    "        \n",
    "    rows.append(\n",
    "        (\n",
    "            c.district_case_id,\n",
    "            c.title,\n",
    "            c.case_no,\n",
    "            c.court,\n",
    "            \", \".join([j.name for j in c.judges]),\n",
    "            c.dates.filed,\n",
    "            c.dates.terminated,\n",
    "            \", \".join([lf.name for lf in c.law_firms]),\n",
    "            \", \".join(parties),\n",
    "        )\n",
    "    )\n",
    "    "
   ]
  },
  {
   "cell_type": "code",
   "execution_count": 19,
   "id": "5fed65b3-31a2-4ec4-9e4b-2fe3435cded2",
   "metadata": {},
   "outputs": [
    {
     "data": {
      "text/plain": [
       "672"
      ]
     },
     "execution_count": 19,
     "metadata": {},
     "output_type": "execute_result"
    }
   ],
   "source": [
    "len(rows)"
   ]
  },
  {
   "cell_type": "code",
   "execution_count": 20,
   "id": "c50fbd93-0f85-4d52-bee9-4759bf774e40",
   "metadata": {},
   "outputs": [
    {
     "data": {
      "text/plain": [
       "['case id',\n",
       " 'case title',\n",
       " 'case number',\n",
       " 'court',\n",
       " 'judges',\n",
       " 'date filed',\n",
       " 'date terminated',\n",
       " 'law_firms',\n",
       " 'parties']"
      ]
     },
     "execution_count": 20,
     "metadata": {},
     "output_type": "execute_result"
    }
   ],
   "source": [
    "rows[0]"
   ]
  },
  {
   "cell_type": "code",
   "execution_count": 21,
   "id": "a04480d5-2182-4693-a6ca-ccb8328ef5de",
   "metadata": {},
   "outputs": [
    {
     "data": {
      "text/plain": [
       "(2002451208,\n",
       " 'UFCW Local 1500 Welfare Fund v. Amgen Inc. et al',\n",
       " '1:19-cv-00369-CFC',\n",
       " 'U.S. District Court for the District of Delaware',\n",
       " 'Leonard Philip Stark, Colm Felix Connolly',\n",
       " datetime.date(2019, 2, 21),\n",
       " datetime.date(2024, 2, 17),\n",
       " 'Morris, Nichols, Arsht & Tunnell, Mayer Brown, Gibson, Dunn & Crutcher, Roberts Law Firm (robertslawfirm.us), Shaw Keller, Fine, Kaplan & Black, R., Glancy Prongay & Murray, NastLaw, DiCello Levitt, Hausfeld, The Bifferato Firm, Labaton Keller Sucharow',\n",
       " 'UFCW Local 1500 Welfare Fund, Watson Laboratories, Inc., Actavis Inc., Amgen Inc., Actavis Pharma, Inc., Teva Pharmaceuticals USA, Inc.')"
      ]
     },
     "execution_count": 21,
     "metadata": {},
     "output_type": "execute_result"
    }
   ],
   "source": [
    "rows[1]"
   ]
  },
  {
   "cell_type": "code",
   "execution_count": 22,
   "id": "053c2b2a-03e5-4c7d-9878-51822201b376",
   "metadata": {},
   "outputs": [
    {
     "data": {
      "text/plain": [
       "(2008968442,\n",
       " 'Garavanian et al v. JetBlue Airways Corporation, et al',\n",
       " '1:23-cv-10678-WGY',\n",
       " 'U.S. District Court for the District of Massachusetts',\n",
       " 'William G. Young, F. Dennis Saylor IV',\n",
       " datetime.date(2023, 3, 29),\n",
       " datetime.date(2024, 6, 18),\n",
       " 'Department of Justice, Goodwin, WilmerHale, Cooley, Foley Hoag, Boies Schiller Flexner LLP, State of District of Columbia, State of Massachusetts, Choate Hall & Stewart, Mayer Brown, Paul, Weiss, Rifkind, Wharton & Garrison, Latham & Watkins, Freshfields Bruckhaus Deringer, Goulston & Storrs, Paul Hastings, A&O Shearman, Cleary Gottlieb Steen & Hamilton, Law Offices of Lingel H. Winters, Law Offices of Lawrence G. Papale, Bonsignore & Brewer, Law Offices of Jeffrey K. Perkins, Alioto Law Firm, Bonsignore Trial Lawyers, Larson, The Veen Firm, Nedeau Law Firm, Paradise Law, Law Office of Theresa D. Moore, Rule Garza Howley, Parr Brown Gee & Loveless',\n",
       " \"Christine Whalen, State of Maryland, Harry Garavanian, State of New York, Don Freeland, Katherine R. Arcell, Jose M. Brito, Frontier Airlines, Inc., Pamela S. Ward, Valerie Jolly, Jan Marie Brown, Estefania Y. Torres Paez, June Stansbury, Gary Talewsky, Sondra K. Russell, Donna Fry, Commonwealth of Massachusetts, State of New Jersey, Timothy Niebor, Southwest Airlines Co., Clyde D. Stensrud, State of California, Breeze Aviation Group, Inc., Jetblue Airways Corporation, Delta Air Lines, Inc., Airbus Americas, Inc., Carolyn Fjord, Lisa McCarthy, Allegiant Air, LLC, Sun Country Airlines Holdings, Inc., District of Columbia, Gabriel Garavanian, Bill Rubinsohn, Brenda K. Davis, Michael C. Malaney, Spirit Airlines, Inc., United States of America, Yvonne Jocelyn Gardner, Rosemary D'Augusta, United Airlines, Inc., Deborah M. Pulfer, State of North Carolina, Frontier Group Holdings, Inc., Len Marazzo, Pamela Faust, American Airlines, Inc.\")"
      ]
     },
     "execution_count": 22,
     "metadata": {},
     "output_type": "execute_result"
    }
   ],
   "source": [
    "rows[300]"
   ]
  },
  {
   "cell_type": "code",
   "execution_count": 23,
   "id": "cd0f289b-cb72-4f93-8ec9-347fd3513293",
   "metadata": {},
   "outputs": [],
   "source": [
    "wb = Workbook()"
   ]
  },
  {
   "cell_type": "code",
   "execution_count": 24,
   "id": "d92307cb-c9d7-49a1-812d-05e68b09b448",
   "metadata": {},
   "outputs": [],
   "source": [
    "ws = wb.active"
   ]
  },
  {
   "cell_type": "code",
   "execution_count": 25,
   "id": "038d3234-2147-497d-8c49-ee1b4f6e2913",
   "metadata": {},
   "outputs": [],
   "source": [
    "for r in rows:\n",
    "    ws.append(r)"
   ]
  },
  {
   "cell_type": "code",
   "execution_count": 26,
   "id": "9c70b4b7-b60a-4bd0-95bf-fb7fedb30346",
   "metadata": {},
   "outputs": [],
   "source": [
    "wb.save(\"antitrust_terminated_2024_law_firms.xlsx\")"
   ]
  },
  {
   "cell_type": "code",
   "execution_count": 27,
   "id": "ec72177c-5afa-49c3-a626-83fdb67078cc",
   "metadata": {},
   "outputs": [],
   "source": [
    "wb.close()"
   ]
  },
  {
   "cell_type": "code",
   "execution_count": null,
   "id": "211a66f0-b390-4007-8bd8-f1c57ca74158",
   "metadata": {},
   "outputs": [],
   "source": []
  }
 ],
 "metadata": {
  "kernelspec": {
   "display_name": "Python 3 (ipykernel)",
   "language": "python",
   "name": "python3"
  },
  "language_info": {
   "codemirror_mode": {
    "name": "ipython",
    "version": 3
   },
   "file_extension": ".py",
   "mimetype": "text/x-python",
   "name": "python",
   "nbconvert_exporter": "python",
   "pygments_lexer": "ipython3",
   "version": "3.11.6"
  }
 },
 "nbformat": 4,
 "nbformat_minor": 5
}
